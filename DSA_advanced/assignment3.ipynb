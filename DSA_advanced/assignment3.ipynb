{
 "cells": [
  {
   "cell_type": "markdown",
   "metadata": {},
   "source": [
    "Implement a binary tree"
   ]
  },
  {
   "cell_type": "code",
   "execution_count": 1,
   "metadata": {},
   "outputs": [],
   "source": [
    "class BinaryTreeNode:\n",
    "    def __init__(self, data):\n",
    "        self.data = data\n",
    "        self.leftChild = None\n",
    "        self.rightChild = None\n"
   ]
  },
  {
   "cell_type": "code",
   "execution_count": 2,
   "metadata": {},
   "outputs": [],
   "source": [
    "root  = BinaryTreeNode(1)\n",
    "root.leftChild = BinaryTreeNode(2)\n",
    "root.rightChild = BinaryTreeNode(3)"
   ]
  },
  {
   "cell_type": "code",
   "execution_count": 3,
   "metadata": {},
   "outputs": [],
   "source": [
    "def height(node):\n",
    "    if node is None:\n",
    "        return 0\n",
    "    else:\n",
    "        left_height = height(node.leftChild)\n",
    "        right_height = height(node.rightChild)\n",
    "        return max(left_height, right_height) + 1"
   ]
  },
  {
   "cell_type": "code",
   "execution_count": 4,
   "metadata": {},
   "outputs": [
    {
     "name": "stdout",
     "output_type": "stream",
     "text": [
      "2\n"
     ]
    }
   ],
   "source": [
    "print(height(root))"
   ]
  },
  {
   "cell_type": "markdown",
   "metadata": {},
   "source": [
    "Find height of a given tree"
   ]
  },
  {
   "cell_type": "code",
   "execution_count": 16,
   "metadata": {},
   "outputs": [],
   "source": [
    "root.leftChild.leftChild=BinaryTreeNode(4)\n",
    "root.leftChild.rightChild=BinaryTreeNode(5)"
   ]
  },
  {
   "cell_type": "code",
   "execution_count": 17,
   "metadata": {},
   "outputs": [
    {
     "name": "stdout",
     "output_type": "stream",
     "text": [
      "3\n"
     ]
    }
   ],
   "source": [
    "print(height(root))"
   ]
  },
  {
   "cell_type": "markdown",
   "metadata": {},
   "source": [
    "Perform Pre-order, Post-order, In-order traversal"
   ]
  },
  {
   "cell_type": "code",
   "execution_count": 12,
   "metadata": {},
   "outputs": [],
   "source": [
    "class BinaryTreeNode:\n",
    "    def __init__(self, data):\n",
    "        self.data = data\n",
    "        self.leftChild = None\n",
    "        self.rightChild = None\n",
    "\n",
    "    def preorder(self):\n",
    "        print(self.data, end=' ')\n",
    "        if self.leftChild:\n",
    "            self.leftChild.preorder()\n",
    "        if self.rightChild:\n",
    "            self.rightChild.preorder()\n",
    "\n",
    "    def inorder(self):\n",
    "        if self.leftChild:\n",
    "            self.leftChild.inorder()\n",
    "        print(self.data, end=' ')\n",
    "        if self.rightChild:\n",
    "            self.rightChild.inorder()\n",
    "\n",
    "    def postorder(self):\n",
    "        if self.leftChild:\n",
    "            self.leftChild.postorder()\n",
    "        if self.rightChild:\n",
    "            self.rightChild.postorder()\n",
    "        print(self.data, end=' ')\n",
    "\n",
    "    def print_leaves(self):\n",
    "        if self.leftChild is None and self.rightChild is None:\n",
    "            print(self.data, end=' ')\n",
    "        if self.leftChild:\n",
    "            self.leftChild.print_leaves()\n",
    "        if self.rightChild:\n",
    "            self.rightChild.print_leaves()\n",
    "\n"
   ]
  },
  {
   "cell_type": "code",
   "execution_count": 18,
   "metadata": {},
   "outputs": [],
   "source": [
    "root  = BinaryTreeNode(1)\n",
    "root.leftChild = BinaryTreeNode(2)\n",
    "root.rightChild = BinaryTreeNode(3)\n",
    "root.leftChild.leftChild=BinaryTreeNode(4)\n",
    "root.leftChild.rightChild=BinaryTreeNode(5)"
   ]
  },
  {
   "cell_type": "code",
   "execution_count": 19,
   "metadata": {},
   "outputs": [
    {
     "name": "stdout",
     "output_type": "stream",
     "text": [
      "Pre-order traversal: 1 2 4 5 3 "
     ]
    }
   ],
   "source": [
    "print('Pre-order traversal:', end=' ')\n",
    "root.preorder()"
   ]
  },
  {
   "cell_type": "code",
   "execution_count": 20,
   "metadata": {},
   "outputs": [
    {
     "name": "stdout",
     "output_type": "stream",
     "text": [
      "In-order traversal: 4 2 5 1 3 "
     ]
    }
   ],
   "source": [
    "print('In-order traversal:', end=' ')\n",
    "root.inorder()"
   ]
  },
  {
   "cell_type": "code",
   "execution_count": 21,
   "metadata": {},
   "outputs": [
    {
     "name": "stdout",
     "output_type": "stream",
     "text": [
      "Post-order traversal: 4 5 2 3 1 "
     ]
    }
   ],
   "source": [
    "print('Post-order traversal:', end=' ')\n",
    "root.postorder()"
   ]
  },
  {
   "cell_type": "markdown",
   "metadata": {},
   "source": []
  },
  {
   "cell_type": "code",
   "execution_count": 24,
   "metadata": {},
   "outputs": [],
   "source": [
    "class BinaryTreeNode:\n",
    "    def __init__(self, data):\n",
    "        self.data = data\n",
    "        self.leftChild = None\n",
    "        self.rightChild = None\n",
    "\n",
    "    def preorder(self):\n",
    "        print(self.data, end=' ')\n",
    "        if self.leftChild:\n",
    "            self.leftChild.preorder()\n",
    "        if self.rightChild:\n",
    "            self.rightChild.preorder()\n",
    "\n",
    "    def inorder(self):\n",
    "        if self.leftChild:\n",
    "            self.leftChild.inorder()\n",
    "        print(self.data, end=' ')\n",
    "        if self.rightChild:\n",
    "            self.rightChild.inorder()\n",
    "\n",
    "    def postorder(self):\n",
    "        if self.leftChild:\n",
    "            self.leftChild.postorder()\n",
    "        if self.rightChild:\n",
    "            self.rightChild.postorder()\n",
    "        print(self.data, end=' ')\n",
    "\n",
    "    def print_leaves(self):\n",
    "        if self.leftChild is None and self.rightChild is None:\n",
    "            print(self.data, end=' ')\n",
    "        if self.leftChild:\n",
    "            self.leftChild.print_leaves()\n",
    "        if self.rightChild:\n",
    "            self.rightChild.print_leaves()\n",
    "\n",
    "    \n"
   ]
  },
  {
   "cell_type": "code",
   "execution_count": 25,
   "metadata": {},
   "outputs": [],
   "source": [
    "root  = BinaryTreeNode(1)\n",
    "root.leftChild = BinaryTreeNode(2)\n",
    "root.rightChild = BinaryTreeNode(3)\n",
    "root.leftChild.leftChild=BinaryTreeNode(4)\n",
    "root.leftChild.rightChild=BinaryTreeNode(5)"
   ]
  },
  {
   "cell_type": "code",
   "execution_count": 26,
   "metadata": {},
   "outputs": [
    {
     "name": "stdout",
     "output_type": "stream",
     "text": [
      "4 5 3 "
     ]
    }
   ],
   "source": [
    "root.print_leaves()"
   ]
  },
  {
   "cell_type": "markdown",
   "metadata": {},
   "source": [
    "Implement BFS (Breath First Search) and DFS (Depth First Search)"
   ]
  },
  {
   "cell_type": "code",
   "execution_count": 29,
   "metadata": {},
   "outputs": [],
   "source": [
    "class BinaryTreeNode:\n",
    "    def __init__(self, data):\n",
    "        self.data = data\n",
    "        self.leftChild = None\n",
    "        self.rightChild = None\n",
    "\n",
    "    def preorder(self):\n",
    "        print(self.data, end=' ')\n",
    "        if self.leftChild:\n",
    "            self.leftChild.preorder()\n",
    "        if self.rightChild:\n",
    "            self.rightChild.preorder()\n",
    "\n",
    "    def inorder(self):\n",
    "        if self.leftChild:\n",
    "            self.leftChild.inorder()\n",
    "        print(self.data, end=' ')\n",
    "        if self.rightChild:\n",
    "            self.rightChild.inorder()\n",
    "\n",
    "    def postorder(self):\n",
    "        if self.leftChild:\n",
    "            self.leftChild.postorder()\n",
    "        if self.rightChild:\n",
    "            self.rightChild.postorder()\n",
    "        print(self.data, end=' ')\n",
    "\n",
    "    def print_leaves(self):\n",
    "        if self.leftChild is None and self.rightChild is None:\n",
    "            print(self.data, end=' ')\n",
    "        if self.leftChild:\n",
    "            self.leftChild.print_leaves()\n",
    "        if self.rightChild:\n",
    "            self.rightChild.print_leaves()\n",
    "    def bfs(self):\n",
    "            visited, queue = set(), [self]\n",
    "            while queue:\n",
    "                node = queue.pop(0)\n",
    "                if node not in visited:\n",
    "                    visited.add(node)\n",
    "                    print(node.data, end=' ')\n",
    "                    if node.leftChild:\n",
    "                        queue.append(node.leftChild)\n",
    "                    if node.rightChild:\n",
    "                        queue.append(node.rightChild)\n",
    "\n",
    "    def dfs(self):\n",
    "        visited, stack = set(), [self]\n",
    "        while stack:\n",
    "            node = stack.pop()\n",
    "            if node not in visited:\n",
    "                visited.add(node)\n",
    "                print(node.data, end=' ')\n",
    "                if node.rightChild:\n",
    "                    stack.append(node.rightChild)\n",
    "                if node.leftChild:\n",
    "                    stack.append(node.leftChild)"
   ]
  },
  {
   "cell_type": "code",
   "execution_count": 30,
   "metadata": {},
   "outputs": [],
   "source": [
    "root  = BinaryTreeNode(1)\n",
    "root.leftChild = BinaryTreeNode(2)\n",
    "root.rightChild = BinaryTreeNode(3)\n",
    "root.leftChild.leftChild=BinaryTreeNode(4)\n",
    "root.leftChild.rightChild=BinaryTreeNode(5)"
   ]
  },
  {
   "cell_type": "code",
   "execution_count": 31,
   "metadata": {},
   "outputs": [
    {
     "name": "stdout",
     "output_type": "stream",
     "text": [
      "1 2 3 4 5 "
     ]
    }
   ],
   "source": [
    "root.bfs()"
   ]
  },
  {
   "cell_type": "code",
   "execution_count": 32,
   "metadata": {},
   "outputs": [
    {
     "name": "stdout",
     "output_type": "stream",
     "text": [
      "1 2 4 5 3 "
     ]
    }
   ],
   "source": [
    "root.dfs()"
   ]
  },
  {
   "cell_type": "markdown",
   "metadata": {},
   "source": [
    "Find sum of all left leaves in a given Binary Tree"
   ]
  },
  {
   "cell_type": "code",
   "execution_count": 33,
   "metadata": {},
   "outputs": [],
   "source": [
    "class BinaryTreeNode:\n",
    "    def __init__(self, data):\n",
    "        self.data = data\n",
    "        self.leftChild = None\n",
    "        self.rightChild = None\n",
    "\n",
    "    def preorder(self):\n",
    "        print(self.data, end=' ')\n",
    "        if self.leftChild:\n",
    "            self.leftChild.preorder()\n",
    "        if self.rightChild:\n",
    "            self.rightChild.preorder()\n",
    "\n",
    "    def inorder(self):\n",
    "        if self.leftChild:\n",
    "            self.leftChild.inorder()\n",
    "        print(self.data, end=' ')\n",
    "        if self.rightChild:\n",
    "            self.rightChild.inorder()\n",
    "\n",
    "    def postorder(self):\n",
    "        if self.leftChild:\n",
    "            self.leftChild.postorder()\n",
    "        if self.rightChild:\n",
    "            self.rightChild.postorder()\n",
    "        print(self.data, end=' ')\n",
    "\n",
    "    def print_leaves(self):\n",
    "        if self.leftChild is None and self.rightChild is None:\n",
    "            print(self.data, end=' ')\n",
    "        if self.leftChild:\n",
    "            self.leftChild.print_leaves()\n",
    "        if self.rightChild:\n",
    "            self.rightChild.print_leaves()\n",
    "    def bfs(self):\n",
    "            visited, queue = set(), [self]\n",
    "            while queue:\n",
    "                node = queue.pop(0)\n",
    "                if node not in visited:\n",
    "                    visited.add(node)\n",
    "                    print(node.data, end=' ')\n",
    "                    if node.leftChild:\n",
    "                        queue.append(node.leftChild)\n",
    "                    if node.rightChild:\n",
    "                        queue.append(node.rightChild)\n",
    "\n",
    "    def dfs(self):\n",
    "        visited, stack = set(), [self]\n",
    "        while stack:\n",
    "            node = stack.pop()\n",
    "            if node not in visited:\n",
    "                visited.add(node)\n",
    "                print(node.data, end=' ')\n",
    "                if node.rightChild:\n",
    "                    stack.append(node.rightChild)\n",
    "                if node.leftChild:\n",
    "                    stack.append(node.leftChild)\n",
    "    \n",
    "    def sum_of_left_leaves(self, is_left=False):\n",
    "        if not self:\n",
    "            return 0\n",
    "        if not self.leftChild and not self.rightChild:\n",
    "            return self.data if is_left else 0\n",
    "        return (self.leftChild.sum_of_left_leaves(True) +\n",
    "                self.rightChild.sum_of_left_leaves(False))"
   ]
  },
  {
   "cell_type": "code",
   "execution_count": 34,
   "metadata": {},
   "outputs": [],
   "source": [
    "root  = BinaryTreeNode(1)\n",
    "root.leftChild = BinaryTreeNode(2)\n",
    "root.rightChild = BinaryTreeNode(3)\n",
    "root.leftChild.leftChild=BinaryTreeNode(4)\n",
    "root.leftChild.rightChild=BinaryTreeNode(5)"
   ]
  },
  {
   "cell_type": "code",
   "execution_count": 35,
   "metadata": {},
   "outputs": [
    {
     "data": {
      "text/plain": [
       "4"
      ]
     },
     "execution_count": 35,
     "metadata": {},
     "output_type": "execute_result"
    }
   ],
   "source": [
    "root.sum_of_left_leaves()"
   ]
  },
  {
   "cell_type": "markdown",
   "metadata": {},
   "source": [
    "Find sum of all nodes of the given perfect binary tree"
   ]
  },
  {
   "cell_type": "code",
   "execution_count": 36,
   "metadata": {},
   "outputs": [],
   "source": [
    "def sum_nodes(l):\n",
    "    leaf_node_count = pow(2, l - 1)\n",
    "    sum_last_level = (leaf_node_count * (leaf_node_count + 1)) // 2\n",
    "    return sum_last_level * l\n"
   ]
  },
  {
   "cell_type": "code",
   "execution_count": 39,
   "metadata": {},
   "outputs": [
    {
     "data": {
      "text/plain": [
       "144"
      ]
     },
     "execution_count": 39,
     "metadata": {},
     "output_type": "execute_result"
    }
   ],
   "source": [
    "sum_nodes(4)"
   ]
  },
  {
   "cell_type": "markdown",
   "metadata": {},
   "source": [
    "Count subtress that sum up to a given value x in a binary tree"
   ]
  },
  {
   "cell_type": "code",
   "execution_count": 44,
   "metadata": {},
   "outputs": [],
   "source": [
    "def countSubtreesWithSumX(root, x):\n",
    "    count = 0\n",
    "    def helper(node):\n",
    "        nonlocal count #use nonlocal so I can update outer 'count' using helper recursively\n",
    "        if not node:\n",
    "            return 0\n",
    "        left_sum = helper(node.leftChild)\n",
    "        right_sum = helper(node.rightChild)\n",
    "        total_sum = left_sum + right_sum + node.data\n",
    "        if total_sum == x:\n",
    "            count += 1\n",
    "        return total_sum\n",
    "\n",
    "    helper(root)\n",
    "    return count"
   ]
  },
  {
   "cell_type": "code",
   "execution_count": 47,
   "metadata": {},
   "outputs": [
    {
     "name": "stdout",
     "output_type": "stream",
     "text": [
      "1\n"
     ]
    }
   ],
   "source": [
    "print(countSubtreesWithSumX(root=root,x=5))"
   ]
  },
  {
   "cell_type": "markdown",
   "metadata": {},
   "source": [
    "Find maximum level sum in Binary Tree"
   ]
  },
  {
   "cell_type": "code",
   "execution_count": 50,
   "metadata": {},
   "outputs": [],
   "source": [
    "def maxLevelSum(root):\n",
    "    if not root:\n",
    "        return 0\n",
    "\n",
    "    max_sum = float('-inf')\n",
    "    queue = [root]\n",
    "\n",
    "    while queue:\n",
    "        level_sum = 0\n",
    "        level_size = len(queue)\n",
    "\n",
    "        for _ in range(level_size):\n",
    "            node = queue.pop(0)\n",
    "            level_sum += node.data\n",
    "\n",
    "            if node.leftChild:\n",
    "                queue.append(node.leftChild)\n",
    "            if node.rightChild:\n",
    "                queue.append(node.rightChild)\n",
    "\n",
    "        max_sum = max(max_sum, level_sum)\n",
    "\n",
    "    return max_sum"
   ]
  },
  {
   "cell_type": "code",
   "execution_count": 51,
   "metadata": {},
   "outputs": [
    {
     "data": {
      "text/plain": [
       "9"
      ]
     },
     "execution_count": 51,
     "metadata": {},
     "output_type": "execute_result"
    }
   ],
   "source": [
    "maxLevelSum(root=root)"
   ]
  },
  {
   "cell_type": "markdown",
   "metadata": {},
   "source": [
    "Print the nodes at odd levels of a tree"
   ]
  },
  {
   "cell_type": "code",
   "execution_count": 52,
   "metadata": {},
   "outputs": [],
   "source": [
    "def printNodesAtOddLevels(root, level=1):\n",
    "    if not root:\n",
    "        return\n",
    "    if level % 2 != 0:\n",
    "        print(root.data, end=' ')\n",
    "    printNodesAtOddLevels(root.leftChild, level+1)\n",
    "    printNodesAtOddLevels(root.rightChild, level+1)"
   ]
  },
  {
   "cell_type": "code",
   "execution_count": 53,
   "metadata": {},
   "outputs": [
    {
     "name": "stdout",
     "output_type": "stream",
     "text": [
      "1 4 5 "
     ]
    }
   ],
   "source": [
    "printNodesAtOddLevels(root=root)"
   ]
  }
 ],
 "metadata": {
  "kernelspec": {
   "display_name": ".venv",
   "language": "python",
   "name": "python3"
  },
  "language_info": {
   "codemirror_mode": {
    "name": "ipython",
    "version": 3
   },
   "file_extension": ".py",
   "mimetype": "text/x-python",
   "name": "python",
   "nbconvert_exporter": "python",
   "pygments_lexer": "ipython3",
   "version": "3.11.4"
  },
  "orig_nbformat": 4
 },
 "nbformat": 4,
 "nbformat_minor": 2
}
