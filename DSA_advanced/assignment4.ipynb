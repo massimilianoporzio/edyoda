{
 "cells": [
  {
   "cell_type": "markdown",
   "metadata": {},
   "source": []
  },
  {
   "cell_type": "code",
   "execution_count": 12,
   "metadata": {},
   "outputs": [],
   "source": [
    "from queue import Queue\n",
    "\n",
    "class Node:\n",
    "    def __init__(self, data):\n",
    "        self.data = data\n",
    "        self.next = None\n",
    "        \n",
    "class Graph:\n",
    "    def __init__(self, vertices):\n",
    "        self.vertices = vertices\n",
    "        self.graph = [None] * self.vertices\n",
    "\n",
    "    def add_edge(self, src, dest):\n",
    "        node = Node(dest)\n",
    "        node.next = self.graph[src]\n",
    "        self.graph[src] = node\n",
    "\n",
    "    def BFS(self, s):\n",
    "        visited = [False] * (self.vertices)\n",
    "        queue = []\n",
    "        queue.append(s)\n",
    "        visited[s] = True\n",
    "\n",
    "        while queue:\n",
    "            s = queue.pop(0)\n",
    "            print(s, end=\" \")\n",
    "\n",
    "            node = self.graph[s]\n",
    "            while node:\n",
    "                n = node.data\n",
    "                if not visited[n]:\n",
    "                    queue.append(n)\n",
    "                    visited[n] = True\n",
    "                node = node.next\n",
    "    \n",
    "    def DFS(self, s):\n",
    "        visited = [False] * (self.vertices)\n",
    "        stack = []\n",
    "        stack.append(s)\n",
    "        visited[s] = True\n",
    "\n",
    "        while stack:\n",
    "            s = stack.pop()\n",
    "            print(s, end=\" \")\n",
    "\n",
    "            node = self.graph[s]\n",
    "            while node:\n",
    "                n = node.data\n",
    "                if not visited[n]:\n",
    "                    stack.append(n)\n",
    "                    visited[n] = True\n",
    "                node = node.next\n",
    "\n"
   ]
  },
  {
   "cell_type": "code",
   "execution_count": 33,
   "metadata": {},
   "outputs": [],
   "source": [
    "graph = Graph(6) #6 vertices\n",
    "graph.add_edge(0, 1)\n",
    "graph.add_edge(0, 3)\n",
    "graph.add_edge(0, 4)\n",
    "graph.add_edge(0, 5)\n",
    "graph.add_edge(1, 0)\n",
    "graph.add_edge(1, 5)\n",
    "graph.add_edge(1, 2)\n",
    "graph.add_edge(2, 1)\n",
    "graph.add_edge(3, 0)\n",
    "graph.add_edge(4, 0)\n",
    "graph.add_edge(5, 0)\n",
    "graph.add_edge(5, 1)\n"
   ]
  },
  {
   "cell_type": "markdown",
   "metadata": {},
   "source": [
    "4-0- 5 \n",
    "  | \\|\n",
    "  3  1-2"
   ]
  },
  {
   "cell_type": "code",
   "execution_count": 14,
   "metadata": {},
   "outputs": [
    {
     "name": "stdout",
     "output_type": "stream",
     "text": [
      "BFS traversal of graph with source vertex 0 is:\n",
      "0 5 4 3 1 2 "
     ]
    }
   ],
   "source": [
    "print(\"BFS traversal of graph with source vertex 0 is:\")\n",
    "graph.BFS(0)"
   ]
  },
  {
   "cell_type": "code",
   "execution_count": 15,
   "metadata": {},
   "outputs": [
    {
     "name": "stdout",
     "output_type": "stream",
     "text": [
      "DFS traversal of graph with source vertex 0 is:\n",
      "0 1 2 3 4 5 "
     ]
    }
   ],
   "source": [
    "print(\"DFS traversal of graph with source vertex 0 is:\")\n",
    "graph.DFS(0)"
   ]
  },
  {
   "cell_type": "markdown",
   "metadata": {},
   "source": []
  },
  {
   "cell_type": "code",
   "execution_count": 20,
   "metadata": {},
   "outputs": [],
   "source": [
    "class Node:\n",
    "    def __init__(self, data):\n",
    "        self.data = data\n",
    "        self.leftChild = None\n",
    "        self.rightChild = None\n",
    "\n",
    "def count_nodes_at_level(root, level):\n",
    "    if root is None:\n",
    "        return 0\n",
    "\n",
    "    q = Queue()\n",
    "    q.put(root)\n",
    "    q.put(None)\n",
    "    current_level = 0\n",
    "    count = 0\n",
    "\n",
    "    while not q.empty():\n",
    "        node = q.get()\n",
    "\n",
    "        if node is None:\n",
    "            current_level += 1\n",
    "            if current_level == level:\n",
    "                return count\n",
    "            if not q.empty():\n",
    "                q.put(None)\n",
    "        else:\n",
    "            if current_level == level:\n",
    "                count += 1\n",
    "            if node.leftChild is not None:\n",
    "                q.put(node.leftChild)\n",
    "            if node.rightChild is not None:\n",
    "                q.put(node.rightChild)\n",
    "\n",
    "    return count\n"
   ]
  },
  {
   "cell_type": "code",
   "execution_count": 25,
   "metadata": {},
   "outputs": [],
   "source": [
    "root  = Node(1)\n",
    "root.leftChild = Node(2)\n",
    "root.rightChild = Node(3)\n",
    "root.rightChild.leftChild = Node(4)\n",
    "root.rightChild.rightChild = Node(5)"
   ]
  },
  {
   "cell_type": "code",
   "execution_count": 26,
   "metadata": {},
   "outputs": [
    {
     "data": {
      "text/plain": [
       "1"
      ]
     },
     "execution_count": 26,
     "metadata": {},
     "output_type": "execute_result"
    }
   ],
   "source": [
    "count_nodes_at_level(root=root,level=0)"
   ]
  },
  {
   "cell_type": "markdown",
   "metadata": {},
   "source": [
    "Count number of trees in a forest.\n",
    "I did not understand what is the assignment here? "
   ]
  },
  {
   "cell_type": "markdown",
   "metadata": {},
   "source": [
    "Detect Cycle in a Directed Graph"
   ]
  },
  {
   "cell_type": "code",
   "execution_count": 35,
   "metadata": {},
   "outputs": [],
   "source": [
    "from collections import defaultdict\n",
    " \n",
    " \n",
    "class Graph():\n",
    "    def __init__(self, vertices):\n",
    "        self.graph = defaultdict(list)\n",
    "        self.V = vertices\n",
    " \n",
    "    def addEdge(self, u, v):\n",
    "        self.graph[u].append(v)\n",
    " \n",
    "    def isCyclicUtil(self, v, visited, recStack):\n",
    " \n",
    "        # Mark current node as visited and\n",
    "        # adds to recursion stack\n",
    "        visited[v] = True\n",
    "        recStack[v] = True\n",
    " \n",
    "        # Recur for all neighbours\n",
    "        # if any neighbour is visited and in\n",
    "        # recStack then graph is cyclic\n",
    "        for neighbour in self.graph[v]:\n",
    "            if visited[neighbour] == False:\n",
    "                if self.isCyclicUtil(neighbour, visited, recStack) == True:\n",
    "                    return True\n",
    "            elif recStack[neighbour] == True:\n",
    "                return True\n",
    " \n",
    "        #popping before recursion ends\n",
    "        recStack[v] = False\n",
    "        return False\n",
    " \n",
    "    \n",
    "    def isCyclic(self):\n",
    "        visited = [False] * (self.V + 1)\n",
    "        recStack = [False] * (self.V + 1)\n",
    "        for node in range(self.V):\n",
    "            if visited[node] == False:\n",
    "                if self.isCyclicUtil(node, visited, recStack) == True:\n",
    "                    return True\n",
    "        return False\n",
    " \n",
    " \n",
    "\n",
    "\n"
   ]
  },
  {
   "cell_type": "code",
   "execution_count": 36,
   "metadata": {},
   "outputs": [
    {
     "name": "stdout",
     "output_type": "stream",
     "text": [
      "Graph contains cycle\n"
     ]
    }
   ],
   "source": [
    "g = Graph(4)\n",
    "g.addEdge(0, 1)\n",
    "g.addEdge(0, 2)\n",
    "g.addEdge(1, 2)\n",
    "g.addEdge(2, 0)\n",
    "g.addEdge(2, 3)\n",
    "g.addEdge(3, 3)\n",
    "\n",
    "if g.isCyclic() == 1:\n",
    "    print(\"Graph contains cycle\")\n",
    "else:\n",
    "    print(\"Graph doesn't contain cycle\")\n"
   ]
  },
  {
   "cell_type": "code",
   "execution_count": 39,
   "metadata": {},
   "outputs": [
    {
     "name": "stdout",
     "output_type": "stream",
     "text": [
      "Graph doesn't contain cycle\n"
     ]
    }
   ],
   "source": [
    "g = Graph(4)\n",
    "g.addEdge(0, 1)\n",
    "g.addEdge(0, 2)\n",
    "g.addEdge(2, 3)\n",
    "\n",
    "\n",
    "if g.isCyclic() == 1:\n",
    "    print(\"Graph contains cycle\")\n",
    "else:\n",
    "    print(\"Graph doesn't contain cycle\")"
   ]
  }
 ],
 "metadata": {
  "kernelspec": {
   "display_name": ".venv",
   "language": "python",
   "name": "python3"
  },
  "language_info": {
   "codemirror_mode": {
    "name": "ipython",
    "version": 3
   },
   "file_extension": ".py",
   "mimetype": "text/x-python",
   "name": "python",
   "nbconvert_exporter": "python",
   "pygments_lexer": "ipython3",
   "version": "3.11.4"
  }
 },
 "nbformat": 4,
 "nbformat_minor": 2
}
