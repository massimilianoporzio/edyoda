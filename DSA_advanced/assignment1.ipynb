{
 "cells": [
  {
   "cell_type": "markdown",
   "metadata": {},
   "source": [
    "1. Delete the elements in an linked list whose sum is equal to zero"
   ]
  },
  {
   "cell_type": "code",
   "execution_count": 2,
   "metadata": {},
   "outputs": [],
   "source": [
    "class Node:\n",
    "    def __init__(self, data):\n",
    "        self.data = data\n",
    "        self.next = None"
   ]
  },
  {
   "cell_type": "code",
   "execution_count": 3,
   "metadata": {},
   "outputs": [],
   "source": [
    "def remove_zero_sum_sublists(head):\n",
    "    # Create a dummy node and set it as the previous node of the head\n",
    "    dummy = Node(0)\n",
    "    dummy.next = head\n",
    "    prefix = 0\n",
    "    seen = {0: dummy}\n",
    "\n",
    "    # Traverse through the linked list\n",
    "    node = dummy\n",
    "    while node:\n",
    "        prefix += node.data\n",
    "        # If the prefix sum has been seen before, remove all nodes between the previous occurrence and the current one\n",
    "        if prefix in seen:\n",
    "            to_remove = seen[prefix].next\n",
    "            prefix_to_remove = prefix + to_remove.data\n",
    "            while prefix_to_remove != prefix:\n",
    "                del seen[prefix_to_remove]\n",
    "                to_remove = to_remove.next\n",
    "                prefix_to_remove += to_remove.data\n",
    "            seen[prefix].next = node.next\n",
    "        else:\n",
    "            seen[prefix] = node\n",
    "\n",
    "        node = node.next\n",
    "\n",
    "    return dummy.next"
   ]
  },
  {
   "cell_type": "code",
   "execution_count": 4,
   "metadata": {},
   "outputs": [],
   "source": [
    "def remove_non_continuous_zero_sum_sublists(head):\n",
    "    # Create a new linked list to store the non-zero sum sublists\n",
    "    new_head = Node(0)\n",
    "    new_tail = new_head\n",
    "\n",
    "    # Traverse through the original linked list and remove zero sum sublists\n",
    "    while head:\n",
    "        # Remove zero sum sublists from the current position\n",
    "        head = remove_zero_sum_sublists(head)\n",
    "\n",
    "        # If the current node is not None (i.e., it is not part of a zero sum sublist), add it to the new linked list\n",
    "        if head:\n",
    "            new_tail.next = Node(head.data)\n",
    "            new_tail = new_tail.next\n",
    "\n",
    "        # Move to the next node in the original linked list\n",
    "        if head:\n",
    "            head = head.next\n",
    "\n",
    "    return new_head.next"
   ]
  },
  {
   "cell_type": "markdown",
   "metadata": {},
   "source": [
    "2. Reverse a linked list in groups of given size"
   ]
  },
  {
   "cell_type": "code",
   "execution_count": 12,
   "metadata": {},
   "outputs": [],
   "source": [
    "def reverse_in_groups(head, k):\n",
    "    # Base case: if the list is empty or has less than k nodes, return the head\n",
    "    if head is None or k == 1:\n",
    "        return head\n",
    "\n",
    "    # Initialize pointers\n",
    "    dummy = Node(0)\n",
    "    dummy.next = head\n",
    "    group_start = dummy\n",
    "    node = head\n",
    "\n",
    "    # Traverse through the linked list\n",
    "    i = 0\n",
    "    while node:\n",
    "        i += 1\n",
    "        # If we've reached the end of a group...\n",
    "        if i % k == 0:\n",
    "            # Reverse the nodes in the current group\n",
    "            prev, curr = group_start, group_start.next\n",
    "            next_group_start = curr\n",
    "            for _ in range(k):\n",
    "                next_node = curr.next\n",
    "                curr.next = prev\n",
    "                prev = curr\n",
    "                curr = next_node\n",
    "\n",
    "            # Update the pointers for the next group\n",
    "            group_start.next = prev\n",
    "            next_group_start.next = curr\n",
    "            group_start = next_group_start\n",
    "\n",
    "        node = node.next\n",
    "    \n",
    "    return dummy.next"
   ]
  },
  {
   "cell_type": "code",
   "execution_count": 13,
   "metadata": {},
   "outputs": [],
   "source": [
    "class LinkedList:\n",
    "    def __init__(self):\n",
    "        self.head = None\n",
    "\n",
    "    def insert(self, data):\n",
    "        if not self.head:\n",
    "            self.head = Node(data)\n",
    "        else:\n",
    "            cur = self.head\n",
    "            while cur.next:\n",
    "                cur = cur.next\n",
    "            cur.next = Node(data)\n",
    "\n",
    "    def display(self):\n",
    "        elements = []\n",
    "        cur_node = self.head\n",
    "        while cur_node:\n",
    "            elements.append(cur_node.data)\n",
    "            cur_node = cur_node.next\n",
    "        return elements"
   ]
  },
  {
   "cell_type": "code",
   "execution_count": 32,
   "metadata": {},
   "outputs": [],
   "source": [
    "def merge_lists(list1, list2):\n",
    "    # Pointers to the heads of the lists\n",
    "    head1 = list1.head\n",
    "    head2 = list2.head\n",
    "\n",
    "    # While both lists are not empty\n",
    "    while head1 and head2:\n",
    "        # Save the next nodes\n",
    "        next1 = head1.next\n",
    "        next2 = head2.next\n",
    "\n",
    "        # Link the second list node to the next of first list node\n",
    "        head1.next = head2\n",
    "\n",
    "        # If there are remaining nodes in the second list, link the next of second list node to the saved next of first list node\n",
    "        if next1:\n",
    "            head2.next = next1\n",
    "\n",
    "        # Move the pointers to the next nodes\n",
    "        head1 = next1\n",
    "        head2 = next2"
   ]
  },
  {
   "cell_type": "code",
   "execution_count": 33,
   "metadata": {},
   "outputs": [],
   "source": [
    "list1 = LinkedList()\n",
    "list1.insert(1)\n",
    "list1.insert(2)\n",
    "list1.insert(3)\n",
    "\n",
    "list2 = LinkedList()\n",
    "list2.insert(4)\n",
    "list2.insert(5)\n",
    "list2.insert(6)"
   ]
  },
  {
   "cell_type": "code",
   "execution_count": 34,
   "metadata": {},
   "outputs": [],
   "source": [
    "merge_lists(list1, list2)"
   ]
  },
  {
   "cell_type": "code",
   "execution_count": 35,
   "metadata": {},
   "outputs": [
    {
     "name": "stdout",
     "output_type": "stream",
     "text": [
      "1\n",
      "4\n",
      "2\n",
      "5\n",
      "3\n",
      "6\n"
     ]
    }
   ],
   "source": [
    "current_node = list1.head\n",
    "while current_node:\n",
    "    print(current_node.data, end='\\n')\n",
    "    current_node = current_node.next"
   ]
  },
  {
   "cell_type": "markdown",
   "metadata": {},
   "source": [
    "In an array, Count Pairs with given sum"
   ]
  },
  {
   "cell_type": "code",
   "execution_count": 36,
   "metadata": {},
   "outputs": [],
   "source": [
    "def count_pairs_with_sum(arr, total):\n",
    "    count = 0\n",
    "    seen = {}\n",
    "\n",
    "    for num in arr:\n",
    "        complement = total - num\n",
    "        if complement in seen:\n",
    "            count += seen[complement]\n",
    "        seen[num] = seen.get(num, 0) + 1\n",
    "\n",
    "    return count"
   ]
  },
  {
   "cell_type": "code",
   "execution_count": 38,
   "metadata": {},
   "outputs": [
    {
     "name": "stdout",
     "output_type": "stream",
     "text": [
      "2\n"
     ]
    }
   ],
   "source": [
    "array=[2,2,4,5,0]\n",
    "print(count_pairs_with_sum(arr=array,total=4))"
   ]
  },
  {
   "cell_type": "markdown",
   "metadata": {},
   "source": [
    "Find duplicates in an array"
   ]
  },
  {
   "cell_type": "code",
   "execution_count": 39,
   "metadata": {},
   "outputs": [],
   "source": [
    "def find_duplicates(arr):\n",
    "    num_dict = {}\n",
    "    duplicates = []\n",
    "\n",
    "    for num in arr:\n",
    "        if num in num_dict:\n",
    "            duplicates.append(num)\n",
    "        else:\n",
    "            num_dict[num] = 1\n",
    "\n",
    "    return duplicates\n"
   ]
  },
  {
   "cell_type": "code",
   "execution_count": 40,
   "metadata": {},
   "outputs": [
    {
     "name": "stdout",
     "output_type": "stream",
     "text": [
      "[2]\n"
     ]
    }
   ],
   "source": [
    "print(find_duplicates(array))"
   ]
  },
  {
   "cell_type": "markdown",
   "metadata": {},
   "source": [
    "Find the Kth largest and Kth smallest number in an array"
   ]
  },
  {
   "cell_type": "code",
   "execution_count": 41,
   "metadata": {},
   "outputs": [],
   "source": [
    "def kth_smallest(arr, k):\n",
    "    arr.sort()\n",
    "    return arr[k-1]\n",
    "\n",
    "def kth_largest(arr, k):\n",
    "    arr.sort(reverse=True)\n",
    "    return arr[k-1]\n"
   ]
  },
  {
   "cell_type": "code",
   "execution_count": 42,
   "metadata": {},
   "outputs": [],
   "source": [
    "array=[1,2,3,5,10,20]"
   ]
  },
  {
   "cell_type": "code",
   "execution_count": 43,
   "metadata": {},
   "outputs": [
    {
     "name": "stdout",
     "output_type": "stream",
     "text": [
      "the 2nd smallest is: 2 and the 2nd largest is: 10\n"
     ]
    }
   ],
   "source": [
    "print(f\"the 2nd smallest is: {kth_smallest(arr=array,k=2)} and the 2nd largest is: {kth_largest(arr=array,k=2)}\")"
   ]
  },
  {
   "cell_type": "markdown",
   "metadata": {},
   "source": [
    "Move all the negative elements to one side of the array"
   ]
  },
  {
   "cell_type": "code",
   "execution_count": 44,
   "metadata": {},
   "outputs": [],
   "source": [
    "def move_negatives(arr):\n",
    "    j = 0\n",
    "    for i in range(len(arr)):\n",
    "        if arr[i] < 0:  # if the element is negative\n",
    "            arr[i], arr[j] = arr[j], arr[i]  # swap \n",
    "            j += 1  \n",
    "    return arr\n"
   ]
  },
  {
   "cell_type": "code",
   "execution_count": 45,
   "metadata": {},
   "outputs": [
    {
     "name": "stdout",
     "output_type": "stream",
     "text": [
      "[-1, -2, -3, 10, 4, 2, 4]\n"
     ]
    }
   ],
   "source": [
    "print(move_negatives([4,2,-1,10,4,-2,-3]))"
   ]
  },
  {
   "cell_type": "markdown",
   "metadata": {},
   "source": [
    "Reverse a string using a stack data structure"
   ]
  },
  {
   "cell_type": "code",
   "execution_count": 46,
   "metadata": {},
   "outputs": [],
   "source": [
    "def reverse_string(s):\n",
    "    \n",
    "    stack = []\n",
    "\n",
    "    # Push all characters of the string onto the stack\n",
    "    for char in s:\n",
    "        stack.append(char)\n",
    "\n",
    "    # Pop all characters from the stack and append them to the reversed string\n",
    "    reversed_s = ''\n",
    "    while stack:\n",
    "        reversed_s += stack.pop()\n",
    "\n",
    "    return reversed_s"
   ]
  },
  {
   "cell_type": "code",
   "execution_count": 47,
   "metadata": {},
   "outputs": [
    {
     "data": {
      "text/plain": [
       "'!dlroW olleH'"
      ]
     },
     "execution_count": 47,
     "metadata": {},
     "output_type": "execute_result"
    }
   ],
   "source": [
    "reverse_string('Hello World!')"
   ]
  },
  {
   "cell_type": "markdown",
   "metadata": {},
   "source": [
    "Evaluate a postfix expression using stack"
   ]
  },
  {
   "cell_type": "code",
   "execution_count": 48,
   "metadata": {},
   "outputs": [],
   "source": [
    "def evaluate_postfix(expression):\n",
    "    stack = []\n",
    "\n",
    "    for char in expression:\n",
    "        if char.isdigit():\n",
    "            stack.append(int(char))\n",
    "        else:\n",
    "            operand2 = stack.pop()\n",
    "            operand1 = stack.pop()\n",
    "\n",
    "            if char == '+':\n",
    "                result = operand1 + operand2\n",
    "            elif char == '-':\n",
    "                result = operand1 - operand2\n",
    "            elif char == '*':\n",
    "                result = operand1 * operand2\n",
    "            elif char == '/':\n",
    "                result = operand1 / operand2\n",
    "\n",
    "            stack.append(result)\n",
    "\n",
    "    return stack[0]\n"
   ]
  },
  {
   "cell_type": "code",
   "execution_count": 50,
   "metadata": {},
   "outputs": [
    {
     "data": {
      "text/plain": [
       "4"
      ]
     },
     "execution_count": 50,
     "metadata": {},
     "output_type": "execute_result"
    }
   ],
   "source": [
    "evaluate_postfix('252*+8-')"
   ]
  },
  {
   "cell_type": "markdown",
   "metadata": {},
   "source": [
    "Implement a queue using the stack data structure"
   ]
  },
  {
   "cell_type": "code",
   "execution_count": 51,
   "metadata": {},
   "outputs": [],
   "source": [
    "class Queue:\n",
    "    def __init__(self):\n",
    "        self.stack1 = []\n",
    "        self.stack2 = []\n",
    "\n",
    "    def enqueue(self, x):\n",
    "        \n",
    "        self.stack1.append(x)\n",
    "\n",
    "    def dequeue(self):\n",
    "        if not self.stack2:\n",
    "            while self.stack1:\n",
    "                self.stack2.append(self.stack1.pop())\n",
    "\n",
    "        \n",
    "        return self.stack2.pop() if self.stack2 else 'Queue is empty!'\n"
   ]
  }
 ],
 "metadata": {
  "kernelspec": {
   "display_name": ".venv",
   "language": "python",
   "name": "python3"
  },
  "language_info": {
   "codemirror_mode": {
    "name": "ipython",
    "version": 3
   },
   "file_extension": ".py",
   "mimetype": "text/x-python",
   "name": "python",
   "nbconvert_exporter": "python",
   "pygments_lexer": "ipython3",
   "version": "3.11.4"
  },
  "orig_nbformat": 4
 },
 "nbformat": 4,
 "nbformat_minor": 2
}
