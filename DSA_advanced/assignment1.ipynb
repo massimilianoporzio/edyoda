{
 "cells": [
  {
   "cell_type": "markdown",
   "metadata": {},
   "source": [
    "1. Delete the elements in an linked list whose sum is equal to zero"
   ]
  },
  {
   "cell_type": "code",
   "execution_count": 2,
   "metadata": {},
   "outputs": [],
   "source": [
    "class Node:\n",
    "    def __init__(self, data):\n",
    "        self.data = data\n",
    "        self.next = None"
   ]
  },
  {
   "cell_type": "code",
   "execution_count": 3,
   "metadata": {},
   "outputs": [],
   "source": [
    "def remove_zero_sum_sublists(head):\n",
    "    # Create a dummy node and set it as the previous node of the head\n",
    "    dummy = Node(0)\n",
    "    dummy.next = head\n",
    "    prefix = 0\n",
    "    seen = {0: dummy}\n",
    "\n",
    "    # Traverse through the linked list\n",
    "    node = dummy\n",
    "    while node:\n",
    "        prefix += node.data\n",
    "        # If the prefix sum has been seen before, remove all nodes between the previous occurrence and the current one\n",
    "        if prefix in seen:\n",
    "            to_remove = seen[prefix].next\n",
    "            prefix_to_remove = prefix + to_remove.data\n",
    "            while prefix_to_remove != prefix:\n",
    "                del seen[prefix_to_remove]\n",
    "                to_remove = to_remove.next\n",
    "                prefix_to_remove += to_remove.data\n",
    "            seen[prefix].next = node.next\n",
    "        else:\n",
    "            seen[prefix] = node\n",
    "\n",
    "        node = node.next\n",
    "\n",
    "    return dummy.next"
   ]
  },
  {
   "cell_type": "code",
   "execution_count": 4,
   "metadata": {},
   "outputs": [],
   "source": [
    "def remove_non_continuous_zero_sum_sublists(head):\n",
    "    # Create a new linked list to store the non-zero sum sublists\n",
    "    new_head = Node(0)\n",
    "    new_tail = new_head\n",
    "\n",
    "    # Traverse through the original linked list and remove zero sum sublists\n",
    "    while head:\n",
    "        # Remove zero sum sublists from the current position\n",
    "        head = remove_zero_sum_sublists(head)\n",
    "\n",
    "        # If the current node is not None (i.e., it is not part of a zero sum sublist), add it to the new linked list\n",
    "        if head:\n",
    "            new_tail.next = Node(head.data)\n",
    "            new_tail = new_tail.next\n",
    "\n",
    "        # Move to the next node in the original linked list\n",
    "        if head:\n",
    "            head = head.next\n",
    "\n",
    "    return new_head.next"
   ]
  },
  {
   "cell_type": "markdown",
   "metadata": {},
   "source": [
    "2. Reverse a linked list in groups of given size"
   ]
  },
  {
   "cell_type": "code",
   "execution_count": 10,
   "metadata": {},
   "outputs": [],
   "source": [
    "def reverse_in_groups(head, k):\n",
    "    # Base case: if the list is empty or has less than k nodes, return the head\n",
    "    if head is None or k == 1:\n",
    "        return head\n",
    "\n",
    "    # Initialize pointers\n",
    "    dummy = Node(0)\n",
    "    dummy.next = head\n",
    "    group_start = dummy\n",
    "    node = head\n",
    "\n",
    "    # Traverse through the linked list\n",
    "    i = 0\n",
    "    while node:\n",
    "        i += 1\n",
    "        # If we've reached the end of a group...\n",
    "        if i % k == 0:\n",
    "            # Reverse the nodes in the current group\n",
    "            prev, curr = group_start, group_start.next\n",
    "            next_group_start = curr\n",
    "            for _ in range(k):\n",
    "                next_node = curr.next\n",
    "                curr.next = prev\n",
    "                prev = curr\n",
    "                curr = next_node\n",
    "\n",
    "            # Update the pointers for the next group\n",
    "            group_start.next = prev\n",
    "            next_group_start.next = curr\n",
    "            group_start = next_group_start\n",
    "\n",
    "        node = node.next\n",
    "    \n",
    "    return dummy.next"
   ]
  },
  {
   "cell_type": "code",
   "execution_count": 7,
   "metadata": {},
   "outputs": [],
   "source": [
    "node5 = Node(5)\n",
    "\n",
    "node4 = Node(data=4)\n",
    "node3 = Node(data=3)\n",
    "node2 = Node(data=2)\n",
    "node1 = Node(data=1)\n",
    "\n",
    "node1.next=node2\n",
    "node2.next=node3\n",
    "node3.next=node4\n",
    "node4.next=node5\n"
   ]
  },
  {
   "cell_type": "code",
   "execution_count": 11,
   "metadata": {},
   "outputs": [
    {
     "ename": "AttributeError",
     "evalue": "'NoneType' object has no attribute 'next'",
     "output_type": "error",
     "traceback": [
      "\u001b[1;31m---------------------------------------------------------------------------\u001b[0m",
      "\u001b[1;31mAttributeError\u001b[0m                            Traceback (most recent call last)",
      "\u001b[1;32me:\\progetti\\edyoda\\DSA_advanced\\assignment1.ipynb Cell 8\u001b[0m line \u001b[0;36m1\n\u001b[1;32m----> <a href='vscode-notebook-cell:/e%3A/progetti/edyoda/DSA_advanced/assignment1.ipynb#X13sZmlsZQ%3D%3D?line=0'>1</a>\u001b[0m reverse_in_groups(head\u001b[39m=\u001b[39;49mnode1,k\u001b[39m=\u001b[39;49m\u001b[39m2\u001b[39;49m)\n",
      "\u001b[1;32me:\\progetti\\edyoda\\DSA_advanced\\assignment1.ipynb Cell 8\u001b[0m line \u001b[0;36m2\n\u001b[0;32m     <a href='vscode-notebook-cell:/e%3A/progetti/edyoda/DSA_advanced/assignment1.ipynb#X13sZmlsZQ%3D%3D?line=19'>20</a>\u001b[0m next_group_start \u001b[39m=\u001b[39m curr\n\u001b[0;32m     <a href='vscode-notebook-cell:/e%3A/progetti/edyoda/DSA_advanced/assignment1.ipynb#X13sZmlsZQ%3D%3D?line=20'>21</a>\u001b[0m \u001b[39mfor\u001b[39;00m _ \u001b[39min\u001b[39;00m \u001b[39mrange\u001b[39m(k):\n\u001b[1;32m---> <a href='vscode-notebook-cell:/e%3A/progetti/edyoda/DSA_advanced/assignment1.ipynb#X13sZmlsZQ%3D%3D?line=21'>22</a>\u001b[0m     next_node \u001b[39m=\u001b[39m curr\u001b[39m.\u001b[39;49mnext\n\u001b[0;32m     <a href='vscode-notebook-cell:/e%3A/progetti/edyoda/DSA_advanced/assignment1.ipynb#X13sZmlsZQ%3D%3D?line=22'>23</a>\u001b[0m     curr\u001b[39m.\u001b[39mnext \u001b[39m=\u001b[39m prev\n\u001b[0;32m     <a href='vscode-notebook-cell:/e%3A/progetti/edyoda/DSA_advanced/assignment1.ipynb#X13sZmlsZQ%3D%3D?line=23'>24</a>\u001b[0m     prev \u001b[39m=\u001b[39m curr\n",
      "\u001b[1;31mAttributeError\u001b[0m: 'NoneType' object has no attribute 'next'"
     ]
    }
   ],
   "source": [
    "reverse_in_groups(head=node1,k=2)"
   ]
  }
 ],
 "metadata": {
  "kernelspec": {
   "display_name": ".venv",
   "language": "python",
   "name": "python3"
  },
  "language_info": {
   "codemirror_mode": {
    "name": "ipython",
    "version": 3
   },
   "file_extension": ".py",
   "mimetype": "text/x-python",
   "name": "python",
   "nbconvert_exporter": "python",
   "pygments_lexer": "ipython3",
   "version": "3.11.4"
  },
  "orig_nbformat": 4
 },
 "nbformat": 4,
 "nbformat_minor": 2
}
