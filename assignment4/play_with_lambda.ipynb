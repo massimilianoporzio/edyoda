{
 "cells": [
  {
   "cell_type": "code",
   "execution_count": 8,
   "metadata": {},
   "outputs": [
    {
     "name": "stdout",
     "output_type": "stream",
     "text": [
      "81\n"
     ]
    }
   ],
   "source": [
    "input_num = input(\"Enter a number\")\n",
    "num = 0\n",
    "try:\n",
    "    num = int(input_num)\n",
    "except ValueError:\n",
    "    try:\n",
    "        num = float(input_num)\n",
    "    except ValueError:\n",
    "        print(\"You cannot input non-number\")\n",
    "added = lambda x : x + 25\n",
    "if num !=0:\n",
    "    print(added(num))\n"
   ]
  }
 ],
 "metadata": {
  "kernelspec": {
   "display_name": ".venv",
   "language": "python",
   "name": "python3"
  },
  "language_info": {
   "codemirror_mode": {
    "name": "ipython",
    "version": 3
   },
   "file_extension": ".py",
   "mimetype": "text/x-python",
   "name": "python",
   "nbconvert_exporter": "python",
   "pygments_lexer": "ipython3",
   "version": "3.11.4"
  },
  "orig_nbformat": 4
 },
 "nbformat": 4,
 "nbformat_minor": 2
}
