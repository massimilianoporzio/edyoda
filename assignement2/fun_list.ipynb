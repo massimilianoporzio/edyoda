{
 "cells": [
  {
   "cell_type": "code",
   "execution_count": 4,
   "metadata": {},
   "outputs": [],
   "source": [
    "#input_list =  [(2, 5), (1, 2), (4, 4), (2, 3), (2, 1)]\n",
    "input_list = [(2, 'c'), (1, 'a'), (4, 'z'), (2, 'r'), (2, 'a')]"
   ]
  },
  {
   "cell_type": "code",
   "execution_count": 5,
   "metadata": {},
   "outputs": [
    {
     "name": "stdout",
     "output_type": "stream",
     "text": [
      "[(1, 'a'), (2, 'a'), (2, 'c'), (2, 'r'), (4, 'z')]\n"
     ]
    }
   ],
   "source": [
    "output_list = sorted(input_list, key= lambda tup: tup[1])\n",
    "print(output_list)"
   ]
  }
 ],
 "metadata": {
  "kernelspec": {
   "display_name": ".venv",
   "language": "python",
   "name": "python3"
  },
  "language_info": {
   "codemirror_mode": {
    "name": "ipython",
    "version": 3
   },
   "file_extension": ".py",
   "mimetype": "text/x-python",
   "name": "python",
   "nbconvert_exporter": "python",
   "pygments_lexer": "ipython3",
   "version": "3.11.4"
  },
  "orig_nbformat": 4
 },
 "nbformat": 4,
 "nbformat_minor": 2
}
