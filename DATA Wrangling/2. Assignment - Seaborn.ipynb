{
 "cells": [
  {
   "cell_type": "code",
   "execution_count": 95,
   "metadata": {},
   "outputs": [],
   "source": [
    "import numpy as np\n",
    "import pandas as pd\n",
    "import seaborn as sns\n",
    "import matplotlib.pyplot as plt"
   ]
  },
  {
   "cell_type": "markdown",
   "metadata": {},
   "source": [
    "1. Import the dataset using Pandas from \"https://raw.githubusercontent.com/SR1608/Datasets/main/covid-data.csv\"."
   ]
  },
  {
   "cell_type": "code",
   "execution_count": 69,
   "metadata": {},
   "outputs": [],
   "source": [
    "df = pd.read_csv(\"https://raw.githubusercontent.com/SR1608/Datasets/main/covid-data.csv\")"
   ]
  },
  {
   "cell_type": "code",
   "execution_count": 70,
   "metadata": {},
   "outputs": [
    {
     "data": {
      "text/html": [
       "<div>\n",
       "<style scoped>\n",
       "    .dataframe tbody tr th:only-of-type {\n",
       "        vertical-align: middle;\n",
       "    }\n",
       "\n",
       "    .dataframe tbody tr th {\n",
       "        vertical-align: top;\n",
       "    }\n",
       "\n",
       "    .dataframe thead th {\n",
       "        text-align: right;\n",
       "    }\n",
       "</style>\n",
       "<table border=\"1\" class=\"dataframe\">\n",
       "  <thead>\n",
       "    <tr style=\"text-align: right;\">\n",
       "      <th></th>\n",
       "      <th>iso_code</th>\n",
       "      <th>continent</th>\n",
       "      <th>location</th>\n",
       "      <th>date</th>\n",
       "      <th>total_cases</th>\n",
       "      <th>new_cases</th>\n",
       "      <th>new_cases_smoothed</th>\n",
       "      <th>total_deaths</th>\n",
       "      <th>new_deaths</th>\n",
       "      <th>new_deaths_smoothed</th>\n",
       "      <th>...</th>\n",
       "      <th>gdp_per_capita</th>\n",
       "      <th>extreme_poverty</th>\n",
       "      <th>cardiovasc_death_rate</th>\n",
       "      <th>diabetes_prevalence</th>\n",
       "      <th>female_smokers</th>\n",
       "      <th>male_smokers</th>\n",
       "      <th>handwashing_facilities</th>\n",
       "      <th>hospital_beds_per_thousand</th>\n",
       "      <th>life_expectancy</th>\n",
       "      <th>human_development_index</th>\n",
       "    </tr>\n",
       "  </thead>\n",
       "  <tbody>\n",
       "    <tr>\n",
       "      <th>0</th>\n",
       "      <td>AFG</td>\n",
       "      <td>Asia</td>\n",
       "      <td>Afghanistan</td>\n",
       "      <td>31/12/19</td>\n",
       "      <td>NaN</td>\n",
       "      <td>0.0</td>\n",
       "      <td>NaN</td>\n",
       "      <td>NaN</td>\n",
       "      <td>0.0</td>\n",
       "      <td>NaN</td>\n",
       "      <td>...</td>\n",
       "      <td>1803.987</td>\n",
       "      <td>NaN</td>\n",
       "      <td>597.029</td>\n",
       "      <td>9.59</td>\n",
       "      <td>NaN</td>\n",
       "      <td>NaN</td>\n",
       "      <td>37.746</td>\n",
       "      <td>0.5</td>\n",
       "      <td>64.83</td>\n",
       "      <td>0.498</td>\n",
       "    </tr>\n",
       "    <tr>\n",
       "      <th>1</th>\n",
       "      <td>AFG</td>\n",
       "      <td>Asia</td>\n",
       "      <td>Afghanistan</td>\n",
       "      <td>01/01/20</td>\n",
       "      <td>NaN</td>\n",
       "      <td>0.0</td>\n",
       "      <td>NaN</td>\n",
       "      <td>NaN</td>\n",
       "      <td>0.0</td>\n",
       "      <td>NaN</td>\n",
       "      <td>...</td>\n",
       "      <td>1803.987</td>\n",
       "      <td>NaN</td>\n",
       "      <td>597.029</td>\n",
       "      <td>9.59</td>\n",
       "      <td>NaN</td>\n",
       "      <td>NaN</td>\n",
       "      <td>37.746</td>\n",
       "      <td>0.5</td>\n",
       "      <td>64.83</td>\n",
       "      <td>0.498</td>\n",
       "    </tr>\n",
       "    <tr>\n",
       "      <th>2</th>\n",
       "      <td>AFG</td>\n",
       "      <td>Asia</td>\n",
       "      <td>Afghanistan</td>\n",
       "      <td>02/01/20</td>\n",
       "      <td>NaN</td>\n",
       "      <td>0.0</td>\n",
       "      <td>NaN</td>\n",
       "      <td>NaN</td>\n",
       "      <td>0.0</td>\n",
       "      <td>NaN</td>\n",
       "      <td>...</td>\n",
       "      <td>1803.987</td>\n",
       "      <td>NaN</td>\n",
       "      <td>597.029</td>\n",
       "      <td>9.59</td>\n",
       "      <td>NaN</td>\n",
       "      <td>NaN</td>\n",
       "      <td>37.746</td>\n",
       "      <td>0.5</td>\n",
       "      <td>64.83</td>\n",
       "      <td>0.498</td>\n",
       "    </tr>\n",
       "    <tr>\n",
       "      <th>3</th>\n",
       "      <td>AFG</td>\n",
       "      <td>Asia</td>\n",
       "      <td>Afghanistan</td>\n",
       "      <td>03/01/20</td>\n",
       "      <td>NaN</td>\n",
       "      <td>0.0</td>\n",
       "      <td>NaN</td>\n",
       "      <td>NaN</td>\n",
       "      <td>0.0</td>\n",
       "      <td>NaN</td>\n",
       "      <td>...</td>\n",
       "      <td>1803.987</td>\n",
       "      <td>NaN</td>\n",
       "      <td>597.029</td>\n",
       "      <td>9.59</td>\n",
       "      <td>NaN</td>\n",
       "      <td>NaN</td>\n",
       "      <td>37.746</td>\n",
       "      <td>0.5</td>\n",
       "      <td>64.83</td>\n",
       "      <td>0.498</td>\n",
       "    </tr>\n",
       "    <tr>\n",
       "      <th>4</th>\n",
       "      <td>AFG</td>\n",
       "      <td>Asia</td>\n",
       "      <td>Afghanistan</td>\n",
       "      <td>04/01/20</td>\n",
       "      <td>NaN</td>\n",
       "      <td>0.0</td>\n",
       "      <td>NaN</td>\n",
       "      <td>NaN</td>\n",
       "      <td>0.0</td>\n",
       "      <td>NaN</td>\n",
       "      <td>...</td>\n",
       "      <td>1803.987</td>\n",
       "      <td>NaN</td>\n",
       "      <td>597.029</td>\n",
       "      <td>9.59</td>\n",
       "      <td>NaN</td>\n",
       "      <td>NaN</td>\n",
       "      <td>37.746</td>\n",
       "      <td>0.5</td>\n",
       "      <td>64.83</td>\n",
       "      <td>0.498</td>\n",
       "    </tr>\n",
       "  </tbody>\n",
       "</table>\n",
       "<p>5 rows × 49 columns</p>\n",
       "</div>"
      ],
      "text/plain": [
       "  iso_code continent     location      date  total_cases  new_cases  \\\n",
       "0      AFG      Asia  Afghanistan  31/12/19          NaN        0.0   \n",
       "1      AFG      Asia  Afghanistan  01/01/20          NaN        0.0   \n",
       "2      AFG      Asia  Afghanistan  02/01/20          NaN        0.0   \n",
       "3      AFG      Asia  Afghanistan  03/01/20          NaN        0.0   \n",
       "4      AFG      Asia  Afghanistan  04/01/20          NaN        0.0   \n",
       "\n",
       "   new_cases_smoothed  total_deaths  new_deaths  new_deaths_smoothed  ...  \\\n",
       "0                 NaN           NaN         0.0                  NaN  ...   \n",
       "1                 NaN           NaN         0.0                  NaN  ...   \n",
       "2                 NaN           NaN         0.0                  NaN  ...   \n",
       "3                 NaN           NaN         0.0                  NaN  ...   \n",
       "4                 NaN           NaN         0.0                  NaN  ...   \n",
       "\n",
       "   gdp_per_capita  extreme_poverty  cardiovasc_death_rate  \\\n",
       "0        1803.987              NaN                597.029   \n",
       "1        1803.987              NaN                597.029   \n",
       "2        1803.987              NaN                597.029   \n",
       "3        1803.987              NaN                597.029   \n",
       "4        1803.987              NaN                597.029   \n",
       "\n",
       "   diabetes_prevalence  female_smokers  male_smokers  handwashing_facilities  \\\n",
       "0                 9.59             NaN           NaN                  37.746   \n",
       "1                 9.59             NaN           NaN                  37.746   \n",
       "2                 9.59             NaN           NaN                  37.746   \n",
       "3                 9.59             NaN           NaN                  37.746   \n",
       "4                 9.59             NaN           NaN                  37.746   \n",
       "\n",
       "   hospital_beds_per_thousand  life_expectancy  human_development_index  \n",
       "0                         0.5            64.83                    0.498  \n",
       "1                         0.5            64.83                    0.498  \n",
       "2                         0.5            64.83                    0.498  \n",
       "3                         0.5            64.83                    0.498  \n",
       "4                         0.5            64.83                    0.498  \n",
       "\n",
       "[5 rows x 49 columns]"
      ]
     },
     "execution_count": 70,
     "metadata": {},
     "output_type": "execute_result"
    }
   ],
   "source": [
    "df.head()"
   ]
  },
  {
   "cell_type": "markdown",
   "metadata": {},
   "source": [
    "2. High Level Data Understanding:\n",
    "\n",
    "    a. Find no. of rows & columns in the dataset\n"
   ]
  },
  {
   "cell_type": "code",
   "execution_count": 71,
   "metadata": {},
   "outputs": [
    {
     "name": "stdout",
     "output_type": "stream",
     "text": [
      "There are  57394  rows and  49  columns\n"
     ]
    }
   ],
   "source": [
    "print(\"There are \",len(df),\" rows and \",len(df.columns), \" columns\")"
   ]
  },
  {
   "cell_type": "markdown",
   "metadata": {},
   "source": [
    "b. Data types of columns."
   ]
  },
  {
   "cell_type": "code",
   "execution_count": 72,
   "metadata": {},
   "outputs": [
    {
     "data": {
      "text/plain": [
       "iso_code                               object\n",
       "continent                              object\n",
       "location                               object\n",
       "date                                   object\n",
       "total_cases                           float64\n",
       "new_cases                             float64\n",
       "new_cases_smoothed                    float64\n",
       "total_deaths                          float64\n",
       "new_deaths                            float64\n",
       "new_deaths_smoothed                   float64\n",
       "total_cases_per_million               float64\n",
       "new_cases_per_million                 float64\n",
       "new_cases_smoothed_per_million        float64\n",
       "total_deaths_per_million              float64\n",
       "new_deaths_per_million                float64\n",
       "new_deaths_smoothed_per_million       float64\n",
       "reproduction_rate                     float64\n",
       "icu_patients                          float64\n",
       "icu_patients_per_million              float64\n",
       "hosp_patients                         float64\n",
       "hosp_patients_per_million             float64\n",
       "weekly_icu_admissions                 float64\n",
       "weekly_icu_admissions_per_million     float64\n",
       "weekly_hosp_admissions                float64\n",
       "weekly_hosp_admissions_per_million    float64\n",
       "total_tests                           float64\n",
       "new_tests                             float64\n",
       "total_tests_per_thousand              float64\n",
       "new_tests_per_thousand                float64\n",
       "new_tests_smoothed                    float64\n",
       "new_tests_smoothed_per_thousand       float64\n",
       "tests_per_case                        float64\n",
       "positive_rate                         float64\n",
       "stringency_index                      float64\n",
       "population                            float64\n",
       "population_density                    float64\n",
       "median_age                            float64\n",
       "aged_65_older                         float64\n",
       "aged_70_older                         float64\n",
       "gdp_per_capita                        float64\n",
       "extreme_poverty                       float64\n",
       "cardiovasc_death_rate                 float64\n",
       "diabetes_prevalence                   float64\n",
       "female_smokers                        float64\n",
       "male_smokers                          float64\n",
       "handwashing_facilities                float64\n",
       "hospital_beds_per_thousand            float64\n",
       "life_expectancy                       float64\n",
       "human_development_index               float64\n",
       "dtype: object"
      ]
     },
     "execution_count": 72,
     "metadata": {},
     "output_type": "execute_result"
    }
   ],
   "source": [
    "df.dtypes"
   ]
  },
  {
   "cell_type": "markdown",
   "metadata": {},
   "source": [
    "c. Info & describe of data in dataframe."
   ]
  },
  {
   "cell_type": "code",
   "execution_count": 73,
   "metadata": {},
   "outputs": [
    {
     "name": "stdout",
     "output_type": "stream",
     "text": [
      "<class 'pandas.core.frame.DataFrame'>\n",
      "RangeIndex: 57394 entries, 0 to 57393\n",
      "Data columns (total 49 columns):\n",
      " #   Column                              Non-Null Count  Dtype  \n",
      "---  ------                              --------------  -----  \n",
      " 0   iso_code                            57071 non-null  object \n",
      " 1   continent                           56748 non-null  object \n",
      " 2   location                            57394 non-null  object \n",
      " 3   date                                57394 non-null  object \n",
      " 4   total_cases                         53758 non-null  float64\n",
      " 5   new_cases                           56465 non-null  float64\n",
      " 6   new_cases_smoothed                  55652 non-null  float64\n",
      " 7   total_deaths                        44368 non-null  float64\n",
      " 8   new_deaths                          56465 non-null  float64\n",
      " 9   new_deaths_smoothed                 55652 non-null  float64\n",
      " 10  total_cases_per_million             53471 non-null  float64\n",
      " 11  new_cases_per_million               56401 non-null  float64\n",
      " 12  new_cases_smoothed_per_million      55587 non-null  float64\n",
      " 13  total_deaths_per_million            44096 non-null  float64\n",
      " 14  new_deaths_per_million              56401 non-null  float64\n",
      " 15  new_deaths_smoothed_per_million     55587 non-null  float64\n",
      " 16  reproduction_rate                   37696 non-null  float64\n",
      " 17  icu_patients                        4490 non-null   float64\n",
      " 18  icu_patients_per_million            4490 non-null   float64\n",
      " 19  hosp_patients                       5005 non-null   float64\n",
      " 20  hosp_patients_per_million           5005 non-null   float64\n",
      " 21  weekly_icu_admissions               357 non-null    float64\n",
      " 22  weekly_icu_admissions_per_million   357 non-null    float64\n",
      " 23  weekly_hosp_admissions              645 non-null    float64\n",
      " 24  weekly_hosp_admissions_per_million  645 non-null    float64\n",
      " 25  total_tests                         22017 non-null  float64\n",
      " 26  new_tests                           21787 non-null  float64\n",
      " 27  total_tests_per_thousand            22017 non-null  float64\n",
      " 28  new_tests_per_thousand              21787 non-null  float64\n",
      " 29  new_tests_smoothed                  24612 non-null  float64\n",
      " 30  new_tests_smoothed_per_thousand     24612 non-null  float64\n",
      " 31  tests_per_case                      22802 non-null  float64\n",
      " 32  positive_rate                       23211 non-null  float64\n",
      " 33  stringency_index                    47847 non-null  float64\n",
      " 34  population                          57071 non-null  float64\n",
      " 35  population_density                  54371 non-null  float64\n",
      " 36  median_age                          51034 non-null  float64\n",
      " 37  aged_65_older                       50265 non-null  float64\n",
      " 38  aged_70_older                       50768 non-null  float64\n",
      " 39  gdp_per_capita                      50367 non-null  float64\n",
      " 40  extreme_poverty                     33571 non-null  float64\n",
      " 41  cardiovasc_death_rate               51013 non-null  float64\n",
      " 42  diabetes_prevalence                 52881 non-null  float64\n",
      " 43  female_smokers                      39669 non-null  float64\n",
      " 44  male_smokers                        39156 non-null  float64\n",
      " 45  handwashing_facilities              24176 non-null  float64\n",
      " 46  hospital_beds_per_thousand          45936 non-null  float64\n",
      " 47  life_expectancy                     56336 non-null  float64\n",
      " 48  human_development_index             49247 non-null  float64\n",
      "dtypes: float64(45), object(4)\n",
      "memory usage: 21.5+ MB\n"
     ]
    }
   ],
   "source": [
    "df.info()"
   ]
  },
  {
   "cell_type": "code",
   "execution_count": 74,
   "metadata": {},
   "outputs": [
    {
     "data": {
      "text/html": [
       "<div>\n",
       "<style scoped>\n",
       "    .dataframe tbody tr th:only-of-type {\n",
       "        vertical-align: middle;\n",
       "    }\n",
       "\n",
       "    .dataframe tbody tr th {\n",
       "        vertical-align: top;\n",
       "    }\n",
       "\n",
       "    .dataframe thead th {\n",
       "        text-align: right;\n",
       "    }\n",
       "</style>\n",
       "<table border=\"1\" class=\"dataframe\">\n",
       "  <thead>\n",
       "    <tr style=\"text-align: right;\">\n",
       "      <th></th>\n",
       "      <th>iso_code</th>\n",
       "      <th>continent</th>\n",
       "      <th>location</th>\n",
       "      <th>date</th>\n",
       "      <th>total_cases</th>\n",
       "      <th>new_cases</th>\n",
       "      <th>new_cases_smoothed</th>\n",
       "      <th>total_deaths</th>\n",
       "      <th>new_deaths</th>\n",
       "      <th>new_deaths_smoothed</th>\n",
       "      <th>...</th>\n",
       "      <th>gdp_per_capita</th>\n",
       "      <th>extreme_poverty</th>\n",
       "      <th>cardiovasc_death_rate</th>\n",
       "      <th>diabetes_prevalence</th>\n",
       "      <th>female_smokers</th>\n",
       "      <th>male_smokers</th>\n",
       "      <th>handwashing_facilities</th>\n",
       "      <th>hospital_beds_per_thousand</th>\n",
       "      <th>life_expectancy</th>\n",
       "      <th>human_development_index</th>\n",
       "    </tr>\n",
       "  </thead>\n",
       "  <tbody>\n",
       "    <tr>\n",
       "      <th>count</th>\n",
       "      <td>57071</td>\n",
       "      <td>56748</td>\n",
       "      <td>57394</td>\n",
       "      <td>57394</td>\n",
       "      <td>5.375800e+04</td>\n",
       "      <td>56465.000000</td>\n",
       "      <td>55652.000000</td>\n",
       "      <td>4.436800e+04</td>\n",
       "      <td>56465.000000</td>\n",
       "      <td>55652.000000</td>\n",
       "      <td>...</td>\n",
       "      <td>50367.000000</td>\n",
       "      <td>33571.000000</td>\n",
       "      <td>51013.000000</td>\n",
       "      <td>52881.000000</td>\n",
       "      <td>39669.000000</td>\n",
       "      <td>39156.000000</td>\n",
       "      <td>24176.000000</td>\n",
       "      <td>45936.000000</td>\n",
       "      <td>56336.000000</td>\n",
       "      <td>49247.000000</td>\n",
       "    </tr>\n",
       "    <tr>\n",
       "      <th>unique</th>\n",
       "      <td>215</td>\n",
       "      <td>6</td>\n",
       "      <td>216</td>\n",
       "      <td>323</td>\n",
       "      <td>NaN</td>\n",
       "      <td>NaN</td>\n",
       "      <td>NaN</td>\n",
       "      <td>NaN</td>\n",
       "      <td>NaN</td>\n",
       "      <td>NaN</td>\n",
       "      <td>...</td>\n",
       "      <td>NaN</td>\n",
       "      <td>NaN</td>\n",
       "      <td>NaN</td>\n",
       "      <td>NaN</td>\n",
       "      <td>NaN</td>\n",
       "      <td>NaN</td>\n",
       "      <td>NaN</td>\n",
       "      <td>NaN</td>\n",
       "      <td>NaN</td>\n",
       "      <td>NaN</td>\n",
       "    </tr>\n",
       "    <tr>\n",
       "      <th>top</th>\n",
       "      <td>AFG</td>\n",
       "      <td>Europe</td>\n",
       "      <td>Afghanistan</td>\n",
       "      <td>30/10/20</td>\n",
       "      <td>NaN</td>\n",
       "      <td>NaN</td>\n",
       "      <td>NaN</td>\n",
       "      <td>NaN</td>\n",
       "      <td>NaN</td>\n",
       "      <td>NaN</td>\n",
       "      <td>...</td>\n",
       "      <td>NaN</td>\n",
       "      <td>NaN</td>\n",
       "      <td>NaN</td>\n",
       "      <td>NaN</td>\n",
       "      <td>NaN</td>\n",
       "      <td>NaN</td>\n",
       "      <td>NaN</td>\n",
       "      <td>NaN</td>\n",
       "      <td>NaN</td>\n",
       "      <td>NaN</td>\n",
       "    </tr>\n",
       "    <tr>\n",
       "      <th>freq</th>\n",
       "      <td>323</td>\n",
       "      <td>14828</td>\n",
       "      <td>323</td>\n",
       "      <td>215</td>\n",
       "      <td>NaN</td>\n",
       "      <td>NaN</td>\n",
       "      <td>NaN</td>\n",
       "      <td>NaN</td>\n",
       "      <td>NaN</td>\n",
       "      <td>NaN</td>\n",
       "      <td>...</td>\n",
       "      <td>NaN</td>\n",
       "      <td>NaN</td>\n",
       "      <td>NaN</td>\n",
       "      <td>NaN</td>\n",
       "      <td>NaN</td>\n",
       "      <td>NaN</td>\n",
       "      <td>NaN</td>\n",
       "      <td>NaN</td>\n",
       "      <td>NaN</td>\n",
       "      <td>NaN</td>\n",
       "    </tr>\n",
       "    <tr>\n",
       "      <th>mean</th>\n",
       "      <td>NaN</td>\n",
       "      <td>NaN</td>\n",
       "      <td>NaN</td>\n",
       "      <td>NaN</td>\n",
       "      <td>1.677974e+05</td>\n",
       "      <td>1953.576941</td>\n",
       "      <td>1920.431953</td>\n",
       "      <td>6.858639e+03</td>\n",
       "      <td>47.054317</td>\n",
       "      <td>46.835439</td>\n",
       "      <td>...</td>\n",
       "      <td>20620.172071</td>\n",
       "      <td>12.435453</td>\n",
       "      <td>252.646642</td>\n",
       "      <td>8.070269</td>\n",
       "      <td>10.741569</td>\n",
       "      <td>32.642686</td>\n",
       "      <td>52.089636</td>\n",
       "      <td>3.089724</td>\n",
       "      <td>73.937780</td>\n",
       "      <td>0.722223</td>\n",
       "    </tr>\n",
       "    <tr>\n",
       "      <th>std</th>\n",
       "      <td>NaN</td>\n",
       "      <td>NaN</td>\n",
       "      <td>NaN</td>\n",
       "      <td>NaN</td>\n",
       "      <td>1.693038e+06</td>\n",
       "      <td>18269.650340</td>\n",
       "      <td>17777.391785</td>\n",
       "      <td>5.578081e+04</td>\n",
       "      <td>390.853776</td>\n",
       "      <td>378.272794</td>\n",
       "      <td>...</td>\n",
       "      <td>20310.999832</td>\n",
       "      <td>19.427924</td>\n",
       "      <td>117.522344</td>\n",
       "      <td>4.189605</td>\n",
       "      <td>10.470743</td>\n",
       "      <td>13.453566</td>\n",
       "      <td>31.645306</td>\n",
       "      <td>2.513193</td>\n",
       "      <td>7.397016</td>\n",
       "      <td>0.153261</td>\n",
       "    </tr>\n",
       "    <tr>\n",
       "      <th>min</th>\n",
       "      <td>NaN</td>\n",
       "      <td>NaN</td>\n",
       "      <td>NaN</td>\n",
       "      <td>NaN</td>\n",
       "      <td>1.000000e+00</td>\n",
       "      <td>-8261.000000</td>\n",
       "      <td>-552.000000</td>\n",
       "      <td>1.000000e+00</td>\n",
       "      <td>-1918.000000</td>\n",
       "      <td>-232.143000</td>\n",
       "      <td>...</td>\n",
       "      <td>661.240000</td>\n",
       "      <td>0.100000</td>\n",
       "      <td>79.370000</td>\n",
       "      <td>0.990000</td>\n",
       "      <td>0.100000</td>\n",
       "      <td>7.700000</td>\n",
       "      <td>1.188000</td>\n",
       "      <td>0.100000</td>\n",
       "      <td>53.280000</td>\n",
       "      <td>0.354000</td>\n",
       "    </tr>\n",
       "    <tr>\n",
       "      <th>25%</th>\n",
       "      <td>NaN</td>\n",
       "      <td>NaN</td>\n",
       "      <td>NaN</td>\n",
       "      <td>NaN</td>\n",
       "      <td>1.800000e+02</td>\n",
       "      <td>0.000000</td>\n",
       "      <td>0.857000</td>\n",
       "      <td>1.300000e+01</td>\n",
       "      <td>0.000000</td>\n",
       "      <td>0.000000</td>\n",
       "      <td>...</td>\n",
       "      <td>5321.444000</td>\n",
       "      <td>0.500000</td>\n",
       "      <td>156.139000</td>\n",
       "      <td>5.310000</td>\n",
       "      <td>1.900000</td>\n",
       "      <td>21.400000</td>\n",
       "      <td>21.222000</td>\n",
       "      <td>1.300000</td>\n",
       "      <td>69.870000</td>\n",
       "      <td>0.601000</td>\n",
       "    </tr>\n",
       "    <tr>\n",
       "      <th>50%</th>\n",
       "      <td>NaN</td>\n",
       "      <td>NaN</td>\n",
       "      <td>NaN</td>\n",
       "      <td>NaN</td>\n",
       "      <td>2.070000e+03</td>\n",
       "      <td>14.000000</td>\n",
       "      <td>19.429000</td>\n",
       "      <td>8.400000e+01</td>\n",
       "      <td>0.000000</td>\n",
       "      <td>0.286000</td>\n",
       "      <td>...</td>\n",
       "      <td>13913.839000</td>\n",
       "      <td>2.000000</td>\n",
       "      <td>238.339000</td>\n",
       "      <td>7.110000</td>\n",
       "      <td>6.400000</td>\n",
       "      <td>31.400000</td>\n",
       "      <td>52.232000</td>\n",
       "      <td>2.500000</td>\n",
       "      <td>75.345000</td>\n",
       "      <td>0.752000</td>\n",
       "    </tr>\n",
       "    <tr>\n",
       "      <th>75%</th>\n",
       "      <td>NaN</td>\n",
       "      <td>NaN</td>\n",
       "      <td>NaN</td>\n",
       "      <td>NaN</td>\n",
       "      <td>2.235675e+04</td>\n",
       "      <td>235.000000</td>\n",
       "      <td>245.286000</td>\n",
       "      <td>7.270000e+02</td>\n",
       "      <td>4.000000</td>\n",
       "      <td>4.000000</td>\n",
       "      <td>...</td>\n",
       "      <td>31400.840000</td>\n",
       "      <td>18.100000</td>\n",
       "      <td>318.991000</td>\n",
       "      <td>10.390000</td>\n",
       "      <td>19.600000</td>\n",
       "      <td>40.900000</td>\n",
       "      <td>83.741000</td>\n",
       "      <td>4.200000</td>\n",
       "      <td>79.380000</td>\n",
       "      <td>0.847000</td>\n",
       "    </tr>\n",
       "    <tr>\n",
       "      <th>max</th>\n",
       "      <td>NaN</td>\n",
       "      <td>NaN</td>\n",
       "      <td>NaN</td>\n",
       "      <td>NaN</td>\n",
       "      <td>5.515465e+07</td>\n",
       "      <td>646281.000000</td>\n",
       "      <td>584981.857000</td>\n",
       "      <td>1.328537e+06</td>\n",
       "      <td>10600.000000</td>\n",
       "      <td>9027.714000</td>\n",
       "      <td>...</td>\n",
       "      <td>116935.600000</td>\n",
       "      <td>77.600000</td>\n",
       "      <td>724.417000</td>\n",
       "      <td>30.530000</td>\n",
       "      <td>44.000000</td>\n",
       "      <td>78.100000</td>\n",
       "      <td>98.999000</td>\n",
       "      <td>13.800000</td>\n",
       "      <td>86.750000</td>\n",
       "      <td>0.953000</td>\n",
       "    </tr>\n",
       "  </tbody>\n",
       "</table>\n",
       "<p>11 rows × 49 columns</p>\n",
       "</div>"
      ],
      "text/plain": [
       "       iso_code continent     location      date   total_cases      new_cases  \\\n",
       "count     57071     56748        57394     57394  5.375800e+04   56465.000000   \n",
       "unique      215         6          216       323           NaN            NaN   \n",
       "top         AFG    Europe  Afghanistan  30/10/20           NaN            NaN   \n",
       "freq        323     14828          323       215           NaN            NaN   \n",
       "mean        NaN       NaN          NaN       NaN  1.677974e+05    1953.576941   \n",
       "std         NaN       NaN          NaN       NaN  1.693038e+06   18269.650340   \n",
       "min         NaN       NaN          NaN       NaN  1.000000e+00   -8261.000000   \n",
       "25%         NaN       NaN          NaN       NaN  1.800000e+02       0.000000   \n",
       "50%         NaN       NaN          NaN       NaN  2.070000e+03      14.000000   \n",
       "75%         NaN       NaN          NaN       NaN  2.235675e+04     235.000000   \n",
       "max         NaN       NaN          NaN       NaN  5.515465e+07  646281.000000   \n",
       "\n",
       "        new_cases_smoothed  total_deaths    new_deaths  new_deaths_smoothed  \\\n",
       "count         55652.000000  4.436800e+04  56465.000000         55652.000000   \n",
       "unique                 NaN           NaN           NaN                  NaN   \n",
       "top                    NaN           NaN           NaN                  NaN   \n",
       "freq                   NaN           NaN           NaN                  NaN   \n",
       "mean           1920.431953  6.858639e+03     47.054317            46.835439   \n",
       "std           17777.391785  5.578081e+04    390.853776           378.272794   \n",
       "min            -552.000000  1.000000e+00  -1918.000000          -232.143000   \n",
       "25%               0.857000  1.300000e+01      0.000000             0.000000   \n",
       "50%              19.429000  8.400000e+01      0.000000             0.286000   \n",
       "75%             245.286000  7.270000e+02      4.000000             4.000000   \n",
       "max          584981.857000  1.328537e+06  10600.000000          9027.714000   \n",
       "\n",
       "        ...  gdp_per_capita  extreme_poverty  cardiovasc_death_rate  \\\n",
       "count   ...    50367.000000     33571.000000           51013.000000   \n",
       "unique  ...             NaN              NaN                    NaN   \n",
       "top     ...             NaN              NaN                    NaN   \n",
       "freq    ...             NaN              NaN                    NaN   \n",
       "mean    ...    20620.172071        12.435453             252.646642   \n",
       "std     ...    20310.999832        19.427924             117.522344   \n",
       "min     ...      661.240000         0.100000              79.370000   \n",
       "25%     ...     5321.444000         0.500000             156.139000   \n",
       "50%     ...    13913.839000         2.000000             238.339000   \n",
       "75%     ...    31400.840000        18.100000             318.991000   \n",
       "max     ...   116935.600000        77.600000             724.417000   \n",
       "\n",
       "        diabetes_prevalence  female_smokers  male_smokers  \\\n",
       "count          52881.000000    39669.000000  39156.000000   \n",
       "unique                  NaN             NaN           NaN   \n",
       "top                     NaN             NaN           NaN   \n",
       "freq                    NaN             NaN           NaN   \n",
       "mean               8.070269       10.741569     32.642686   \n",
       "std                4.189605       10.470743     13.453566   \n",
       "min                0.990000        0.100000      7.700000   \n",
       "25%                5.310000        1.900000     21.400000   \n",
       "50%                7.110000        6.400000     31.400000   \n",
       "75%               10.390000       19.600000     40.900000   \n",
       "max               30.530000       44.000000     78.100000   \n",
       "\n",
       "        handwashing_facilities  hospital_beds_per_thousand  life_expectancy  \\\n",
       "count             24176.000000                45936.000000     56336.000000   \n",
       "unique                     NaN                         NaN              NaN   \n",
       "top                        NaN                         NaN              NaN   \n",
       "freq                       NaN                         NaN              NaN   \n",
       "mean                 52.089636                    3.089724        73.937780   \n",
       "std                  31.645306                    2.513193         7.397016   \n",
       "min                   1.188000                    0.100000        53.280000   \n",
       "25%                  21.222000                    1.300000        69.870000   \n",
       "50%                  52.232000                    2.500000        75.345000   \n",
       "75%                  83.741000                    4.200000        79.380000   \n",
       "max                  98.999000                   13.800000        86.750000   \n",
       "\n",
       "        human_development_index  \n",
       "count              49247.000000  \n",
       "unique                      NaN  \n",
       "top                         NaN  \n",
       "freq                        NaN  \n",
       "mean                   0.722223  \n",
       "std                    0.153261  \n",
       "min                    0.354000  \n",
       "25%                    0.601000  \n",
       "50%                    0.752000  \n",
       "75%                    0.847000  \n",
       "max                    0.953000  \n",
       "\n",
       "[11 rows x 49 columns]"
      ]
     },
     "execution_count": 74,
     "metadata": {},
     "output_type": "execute_result"
    }
   ],
   "source": [
    "df.describe(include='all')"
   ]
  },
  {
   "cell_type": "markdown",
   "metadata": {},
   "source": [
    "3. Low Level Data Understanding :\n",
    "\n",
    "    a. Find count of unique values in location column."
   ]
  },
  {
   "cell_type": "code",
   "execution_count": 75,
   "metadata": {},
   "outputs": [
    {
     "name": "stdout",
     "output_type": "stream",
     "text": [
      "There are 216 unique values in location column\n"
     ]
    }
   ],
   "source": [
    "print(f\"There are {len(df.location.unique())} unique values in location column\")"
   ]
  },
  {
   "cell_type": "markdown",
   "metadata": {},
   "source": [
    "b. Find which continent has maximum frequency using values counts."
   ]
  },
  {
   "cell_type": "code",
   "execution_count": 76,
   "metadata": {},
   "outputs": [
    {
     "name": "stdout",
     "output_type": "stream",
     "text": [
      "The conintent that has maximum frequency is  Europe\n"
     ]
    }
   ],
   "source": [
    "print(\"The conintent that has maximum frequency is \", list(df.continent.value_counts().items())[0][0])"
   ]
  },
  {
   "cell_type": "markdown",
   "metadata": {},
   "source": [
    "c. Find maximum & mean value in 'total_cases'."
   ]
  },
  {
   "cell_type": "code",
   "execution_count": 77,
   "metadata": {},
   "outputs": [
    {
     "name": "stdout",
     "output_type": "stream",
     "text": [
      "The max no. of total cases is  55154651 . The mean no. of total cases is  167797.37\n"
     ]
    }
   ],
   "source": [
    "print(\"The max no. of total cases is \",int(df.total_cases.max()),\n",
    "       \". The mean no. of total cases is \",round(df.total_cases.mean(),2))"
   ]
  },
  {
   "cell_type": "markdown",
   "metadata": {},
   "source": [
    "d. Find 25%,50% & 75% quartile value in 'total_deaths'."
   ]
  },
  {
   "cell_type": "code",
   "execution_count": 78,
   "metadata": {},
   "outputs": [
    {
     "name": "stdout",
     "output_type": "stream",
     "text": [
      "25% :  13.0\n",
      "50% :  84.0\n",
      "75% :  727.0\n"
     ]
    }
   ],
   "source": [
    "\n",
    "for (percentile, value ) in list(df['total_deaths'].describe().items())[4:7]:\n",
    "    print(percentile,\": \",value)"
   ]
  },
  {
   "cell_type": "markdown",
   "metadata": {},
   "source": [
    "e. Find which continent has maximum 'human_development_index'."
   ]
  },
  {
   "cell_type": "code",
   "execution_count": 79,
   "metadata": {},
   "outputs": [
    {
     "data": {
      "text/plain": [
       "'Europe'"
      ]
     },
     "execution_count": 79,
     "metadata": {},
     "output_type": "execute_result"
    }
   ],
   "source": [
    "df.loc[df[\"human_development_index\"].idxmax()][\"continent\"]"
   ]
  },
  {
   "cell_type": "markdown",
   "metadata": {},
   "source": [
    "f. Find which continent has minimum 'gdp_per_capita'."
   ]
  },
  {
   "cell_type": "code",
   "execution_count": 80,
   "metadata": {},
   "outputs": [
    {
     "data": {
      "text/plain": [
       "'Africa'"
      ]
     },
     "execution_count": 80,
     "metadata": {},
     "output_type": "execute_result"
    }
   ],
   "source": [
    "df.loc[df[\"gdp_per_capita\"].idxmin()][\"continent\"]"
   ]
  },
  {
   "cell_type": "markdown",
   "metadata": {},
   "source": [
    "4. Filter the dataframe with only this columns ['continent','location','date','total_cases','total_deaths','gdp_per_capita',' human_development_index'] and update the data frame."
   ]
  },
  {
   "cell_type": "code",
   "execution_count": 81,
   "metadata": {},
   "outputs": [
    {
     "data": {
      "text/html": [
       "<div>\n",
       "<style scoped>\n",
       "    .dataframe tbody tr th:only-of-type {\n",
       "        vertical-align: middle;\n",
       "    }\n",
       "\n",
       "    .dataframe tbody tr th {\n",
       "        vertical-align: top;\n",
       "    }\n",
       "\n",
       "    .dataframe thead th {\n",
       "        text-align: right;\n",
       "    }\n",
       "</style>\n",
       "<table border=\"1\" class=\"dataframe\">\n",
       "  <thead>\n",
       "    <tr style=\"text-align: right;\">\n",
       "      <th></th>\n",
       "      <th>continent</th>\n",
       "      <th>location</th>\n",
       "      <th>date</th>\n",
       "      <th>total_cases</th>\n",
       "      <th>total_deaths</th>\n",
       "      <th>gdp_per_capita</th>\n",
       "    </tr>\n",
       "  </thead>\n",
       "  <tbody>\n",
       "    <tr>\n",
       "      <th>0</th>\n",
       "      <td>Asia</td>\n",
       "      <td>Afghanistan</td>\n",
       "      <td>31/12/19</td>\n",
       "      <td>NaN</td>\n",
       "      <td>NaN</td>\n",
       "      <td>1803.987</td>\n",
       "    </tr>\n",
       "    <tr>\n",
       "      <th>1</th>\n",
       "      <td>Asia</td>\n",
       "      <td>Afghanistan</td>\n",
       "      <td>01/01/20</td>\n",
       "      <td>NaN</td>\n",
       "      <td>NaN</td>\n",
       "      <td>1803.987</td>\n",
       "    </tr>\n",
       "    <tr>\n",
       "      <th>2</th>\n",
       "      <td>Asia</td>\n",
       "      <td>Afghanistan</td>\n",
       "      <td>02/01/20</td>\n",
       "      <td>NaN</td>\n",
       "      <td>NaN</td>\n",
       "      <td>1803.987</td>\n",
       "    </tr>\n",
       "    <tr>\n",
       "      <th>3</th>\n",
       "      <td>Asia</td>\n",
       "      <td>Afghanistan</td>\n",
       "      <td>03/01/20</td>\n",
       "      <td>NaN</td>\n",
       "      <td>NaN</td>\n",
       "      <td>1803.987</td>\n",
       "    </tr>\n",
       "    <tr>\n",
       "      <th>4</th>\n",
       "      <td>Asia</td>\n",
       "      <td>Afghanistan</td>\n",
       "      <td>04/01/20</td>\n",
       "      <td>NaN</td>\n",
       "      <td>NaN</td>\n",
       "      <td>1803.987</td>\n",
       "    </tr>\n",
       "  </tbody>\n",
       "</table>\n",
       "</div>"
      ],
      "text/plain": [
       "  continent     location      date  total_cases  total_deaths  gdp_per_capita\n",
       "0      Asia  Afghanistan  31/12/19          NaN           NaN        1803.987\n",
       "1      Asia  Afghanistan  01/01/20          NaN           NaN        1803.987\n",
       "2      Asia  Afghanistan  02/01/20          NaN           NaN        1803.987\n",
       "3      Asia  Afghanistan  03/01/20          NaN           NaN        1803.987\n",
       "4      Asia  Afghanistan  04/01/20          NaN           NaN        1803.987"
      ]
     },
     "execution_count": 81,
     "metadata": {},
     "output_type": "execute_result"
    }
   ],
   "source": [
    "df = df.filter(['continent','location','date','total_cases','total_deaths','gdp_per_capita',' human_development_index'])\n",
    "df.head()"
   ]
  },
  {
   "cell_type": "markdown",
   "metadata": {},
   "source": [
    "5. Data Cleaning a. Remove all duplicates observations"
   ]
  },
  {
   "cell_type": "code",
   "execution_count": 82,
   "metadata": {},
   "outputs": [],
   "source": [
    "df.drop_duplicates(inplace=True)"
   ]
  },
  {
   "cell_type": "markdown",
   "metadata": {},
   "source": [
    "b. Find missing values in all columns"
   ]
  },
  {
   "cell_type": "code",
   "execution_count": 83,
   "metadata": {},
   "outputs": [
    {
     "data": {
      "text/html": [
       "<div>\n",
       "<style scoped>\n",
       "    .dataframe tbody tr th:only-of-type {\n",
       "        vertical-align: middle;\n",
       "    }\n",
       "\n",
       "    .dataframe tbody tr th {\n",
       "        vertical-align: top;\n",
       "    }\n",
       "\n",
       "    .dataframe thead th {\n",
       "        text-align: right;\n",
       "    }\n",
       "</style>\n",
       "<table border=\"1\" class=\"dataframe\">\n",
       "  <thead>\n",
       "    <tr style=\"text-align: right;\">\n",
       "      <th></th>\n",
       "      <th>continent</th>\n",
       "      <th>location</th>\n",
       "      <th>date</th>\n",
       "      <th>total_cases</th>\n",
       "      <th>total_deaths</th>\n",
       "      <th>gdp_per_capita</th>\n",
       "    </tr>\n",
       "  </thead>\n",
       "  <tbody>\n",
       "    <tr>\n",
       "      <th>0</th>\n",
       "      <td>False</td>\n",
       "      <td>False</td>\n",
       "      <td>False</td>\n",
       "      <td>True</td>\n",
       "      <td>True</td>\n",
       "      <td>False</td>\n",
       "    </tr>\n",
       "    <tr>\n",
       "      <th>1</th>\n",
       "      <td>False</td>\n",
       "      <td>False</td>\n",
       "      <td>False</td>\n",
       "      <td>True</td>\n",
       "      <td>True</td>\n",
       "      <td>False</td>\n",
       "    </tr>\n",
       "    <tr>\n",
       "      <th>2</th>\n",
       "      <td>False</td>\n",
       "      <td>False</td>\n",
       "      <td>False</td>\n",
       "      <td>True</td>\n",
       "      <td>True</td>\n",
       "      <td>False</td>\n",
       "    </tr>\n",
       "    <tr>\n",
       "      <th>3</th>\n",
       "      <td>False</td>\n",
       "      <td>False</td>\n",
       "      <td>False</td>\n",
       "      <td>True</td>\n",
       "      <td>True</td>\n",
       "      <td>False</td>\n",
       "    </tr>\n",
       "    <tr>\n",
       "      <th>4</th>\n",
       "      <td>False</td>\n",
       "      <td>False</td>\n",
       "      <td>False</td>\n",
       "      <td>True</td>\n",
       "      <td>True</td>\n",
       "      <td>False</td>\n",
       "    </tr>\n",
       "    <tr>\n",
       "      <th>...</th>\n",
       "      <td>...</td>\n",
       "      <td>...</td>\n",
       "      <td>...</td>\n",
       "      <td>...</td>\n",
       "      <td>...</td>\n",
       "      <td>...</td>\n",
       "    </tr>\n",
       "    <tr>\n",
       "      <th>57389</th>\n",
       "      <td>True</td>\n",
       "      <td>False</td>\n",
       "      <td>False</td>\n",
       "      <td>False</td>\n",
       "      <td>False</td>\n",
       "      <td>True</td>\n",
       "    </tr>\n",
       "    <tr>\n",
       "      <th>57390</th>\n",
       "      <td>True</td>\n",
       "      <td>False</td>\n",
       "      <td>False</td>\n",
       "      <td>False</td>\n",
       "      <td>False</td>\n",
       "      <td>True</td>\n",
       "    </tr>\n",
       "    <tr>\n",
       "      <th>57391</th>\n",
       "      <td>True</td>\n",
       "      <td>False</td>\n",
       "      <td>False</td>\n",
       "      <td>False</td>\n",
       "      <td>False</td>\n",
       "      <td>True</td>\n",
       "    </tr>\n",
       "    <tr>\n",
       "      <th>57392</th>\n",
       "      <td>True</td>\n",
       "      <td>False</td>\n",
       "      <td>False</td>\n",
       "      <td>False</td>\n",
       "      <td>False</td>\n",
       "      <td>True</td>\n",
       "    </tr>\n",
       "    <tr>\n",
       "      <th>57393</th>\n",
       "      <td>True</td>\n",
       "      <td>False</td>\n",
       "      <td>False</td>\n",
       "      <td>False</td>\n",
       "      <td>False</td>\n",
       "      <td>True</td>\n",
       "    </tr>\n",
       "  </tbody>\n",
       "</table>\n",
       "<p>57394 rows × 6 columns</p>\n",
       "</div>"
      ],
      "text/plain": [
       "       continent  location   date  total_cases  total_deaths  gdp_per_capita\n",
       "0          False     False  False         True          True           False\n",
       "1          False     False  False         True          True           False\n",
       "2          False     False  False         True          True           False\n",
       "3          False     False  False         True          True           False\n",
       "4          False     False  False         True          True           False\n",
       "...          ...       ...    ...          ...           ...             ...\n",
       "57389       True     False  False        False         False            True\n",
       "57390       True     False  False        False         False            True\n",
       "57391       True     False  False        False         False            True\n",
       "57392       True     False  False        False         False            True\n",
       "57393       True     False  False        False         False            True\n",
       "\n",
       "[57394 rows x 6 columns]"
      ]
     },
     "execution_count": 83,
     "metadata": {},
     "output_type": "execute_result"
    }
   ],
   "source": [
    "df.isna()"
   ]
  },
  {
   "cell_type": "markdown",
   "metadata": {},
   "source": [
    "c. Remove all observations where continent column value is missing"
   ]
  },
  {
   "cell_type": "code",
   "execution_count": 84,
   "metadata": {},
   "outputs": [],
   "source": [
    "df.dropna(subset=[\"continent\"],inplace=True)"
   ]
  },
  {
   "cell_type": "markdown",
   "metadata": {},
   "source": [
    "d. Fill all missing values with 0"
   ]
  },
  {
   "cell_type": "code",
   "execution_count": 85,
   "metadata": {},
   "outputs": [],
   "source": [
    "df.fillna(0,inplace=True)"
   ]
  },
  {
   "cell_type": "markdown",
   "metadata": {},
   "source": [
    "6. Date time format : a. Convert date column in datetime format using pandas.to_datetime"
   ]
  },
  {
   "cell_type": "code",
   "execution_count": 87,
   "metadata": {},
   "outputs": [],
   "source": [
    "df.date= pd.to_datetime(df.date)"
   ]
  },
  {
   "cell_type": "markdown",
   "metadata": {},
   "source": [
    "b. Create new column month after extracting month data from date column."
   ]
  },
  {
   "cell_type": "code",
   "execution_count": 88,
   "metadata": {},
   "outputs": [],
   "source": [
    "df['month'] = df['date'].dt.month "
   ]
  },
  {
   "cell_type": "markdown",
   "metadata": {},
   "source": [
    "7. Data Aggregation:\n",
    "\n",
    " a. Find max value in all columns using groupby function on 'continent' column\n",
    "\n",
    " b. Store the result in a new dataframe named 'df_groupby'. (Use df_groupby dataframe for all further analysis)"
   ]
  },
  {
   "cell_type": "code",
   "execution_count": 91,
   "metadata": {},
   "outputs": [],
   "source": [
    "df_groupby=df.groupby(['continent']).max().reset_index()"
   ]
  },
  {
   "cell_type": "code",
   "execution_count": 107,
   "metadata": {},
   "outputs": [
    {
     "data": {
      "text/html": [
       "<div>\n",
       "<style scoped>\n",
       "    .dataframe tbody tr th:only-of-type {\n",
       "        vertical-align: middle;\n",
       "    }\n",
       "\n",
       "    .dataframe tbody tr th {\n",
       "        vertical-align: top;\n",
       "    }\n",
       "\n",
       "    .dataframe thead th {\n",
       "        text-align: right;\n",
       "    }\n",
       "</style>\n",
       "<table border=\"1\" class=\"dataframe\">\n",
       "  <thead>\n",
       "    <tr style=\"text-align: right;\">\n",
       "      <th></th>\n",
       "      <th>continent</th>\n",
       "      <th>location</th>\n",
       "      <th>date</th>\n",
       "      <th>total_cases</th>\n",
       "      <th>total_deaths</th>\n",
       "      <th>gdp_per_capita</th>\n",
       "      <th>month</th>\n",
       "      <th>total_deaths_to_total_cases</th>\n",
       "    </tr>\n",
       "  </thead>\n",
       "  <tbody>\n",
       "    <tr>\n",
       "      <th>0</th>\n",
       "      <td>Africa</td>\n",
       "      <td>Zimbabwe</td>\n",
       "      <td>2020-12-11</td>\n",
       "      <td>752269.0</td>\n",
       "      <td>20314.0</td>\n",
       "      <td>26382.287</td>\n",
       "      <td>12</td>\n",
       "      <td>0.027004</td>\n",
       "    </tr>\n",
       "    <tr>\n",
       "      <th>1</th>\n",
       "      <td>Asia</td>\n",
       "      <td>Yemen</td>\n",
       "      <td>2020-12-11</td>\n",
       "      <td>8874290.0</td>\n",
       "      <td>130519.0</td>\n",
       "      <td>116935.600</td>\n",
       "      <td>12</td>\n",
       "      <td>0.014708</td>\n",
       "    </tr>\n",
       "    <tr>\n",
       "      <th>2</th>\n",
       "      <td>Europe</td>\n",
       "      <td>Vatican</td>\n",
       "      <td>2020-12-11</td>\n",
       "      <td>1991233.0</td>\n",
       "      <td>52147.0</td>\n",
       "      <td>94277.965</td>\n",
       "      <td>12</td>\n",
       "      <td>0.026188</td>\n",
       "    </tr>\n",
       "    <tr>\n",
       "      <th>3</th>\n",
       "      <td>North America</td>\n",
       "      <td>United States Virgin Islands</td>\n",
       "      <td>2020-12-11</td>\n",
       "      <td>11205486.0</td>\n",
       "      <td>247220.0</td>\n",
       "      <td>54225.446</td>\n",
       "      <td>12</td>\n",
       "      <td>0.022062</td>\n",
       "    </tr>\n",
       "    <tr>\n",
       "      <th>4</th>\n",
       "      <td>Oceania</td>\n",
       "      <td>Wallis and Futuna</td>\n",
       "      <td>2020-12-11</td>\n",
       "      <td>27750.0</td>\n",
       "      <td>907.0</td>\n",
       "      <td>44648.710</td>\n",
       "      <td>12</td>\n",
       "      <td>0.032685</td>\n",
       "    </tr>\n",
       "    <tr>\n",
       "      <th>5</th>\n",
       "      <td>South America</td>\n",
       "      <td>Venezuela</td>\n",
       "      <td>2020-12-11</td>\n",
       "      <td>5876464.0</td>\n",
       "      <td>166014.0</td>\n",
       "      <td>22767.037</td>\n",
       "      <td>12</td>\n",
       "      <td>0.028251</td>\n",
       "    </tr>\n",
       "  </tbody>\n",
       "</table>\n",
       "</div>"
      ],
      "text/plain": [
       "       continent                      location       date  total_cases  \\\n",
       "0         Africa                      Zimbabwe 2020-12-11     752269.0   \n",
       "1           Asia                         Yemen 2020-12-11    8874290.0   \n",
       "2         Europe                       Vatican 2020-12-11    1991233.0   \n",
       "3  North America  United States Virgin Islands 2020-12-11   11205486.0   \n",
       "4        Oceania             Wallis and Futuna 2020-12-11      27750.0   \n",
       "5  South America                     Venezuela 2020-12-11    5876464.0   \n",
       "\n",
       "   total_deaths  gdp_per_capita  month  total_deaths_to_total_cases  \n",
       "0       20314.0       26382.287     12                     0.027004  \n",
       "1      130519.0      116935.600     12                     0.014708  \n",
       "2       52147.0       94277.965     12                     0.026188  \n",
       "3      247220.0       54225.446     12                     0.022062  \n",
       "4         907.0       44648.710     12                     0.032685  \n",
       "5      166014.0       22767.037     12                     0.028251  "
      ]
     },
     "execution_count": 107,
     "metadata": {},
     "output_type": "execute_result"
    }
   ],
   "source": [
    "df_groupby"
   ]
  },
  {
   "cell_type": "markdown",
   "metadata": {},
   "source": [
    "8. Feature Engineering :\n",
    "\n",
    " a. Create a new feature 'total_deaths_to_total_cases' by ratio of 'total_deaths' column to 'total_cases'"
   ]
  },
  {
   "cell_type": "code",
   "execution_count": 92,
   "metadata": {},
   "outputs": [],
   "source": [
    "df_groupby['total_deaths_to_total_cases']=(df_groupby['total_deaths']/df_groupby['total_cases'])"
   ]
  },
  {
   "cell_type": "markdown",
   "metadata": {},
   "source": [
    "9. Data Visualization :\n",
    "\n",
    "a. Perform Univariate analysis on 'gdp_per_capita' column by plotting histogram using seaborn dist plot."
   ]
  },
  {
   "cell_type": "code",
   "execution_count": 99,
   "metadata": {},
   "outputs": [
    {
     "name": "stderr",
     "output_type": "stream",
     "text": [
      "C:\\Users\\User\\AppData\\Local\\Temp\\ipykernel_12776\\3256865026.py:1: UserWarning: \n",
      "\n",
      "`distplot` is a deprecated function and will be removed in seaborn v0.14.0.\n",
      "\n",
      "Please adapt your code to use either `displot` (a figure-level function with\n",
      "similar flexibility) or `histplot` (an axes-level function for histograms).\n",
      "\n",
      "For a guide to updating your code to use the new functions, please see\n",
      "https://gist.github.com/mwaskom/de44147ed2974457ad6372750bbe5751\n",
      "\n",
      "  sns.distplot(df_groupby['gdp_per_capita'])\n"
     ]
    },
    {
     "data": {
      "text/plain": [
       "<Axes: xlabel='gdp_per_capita', ylabel='Density'>"
      ]
     },
     "execution_count": 99,
     "metadata": {},
     "output_type": "execute_result"
    },
    {
     "data": {
      "image/png": "[encoded data removed]",
      "text/plain": [
       "<Figure size 640x480 with 1 Axes>"
      ]
     },
     "metadata": {},
     "output_type": "display_data"
    }
   ],
   "source": [
    "sns.distplot(df_groupby['gdp_per_capita'])"
   ]
  },
  {
   "cell_type": "code",
   "execution_count": 102,
   "metadata": {},
   "outputs": [
    {
     "data": {
      "text/plain": [
       "<Axes: xlabel='gdp_per_capita', ylabel='Count'>"
      ]
     },
     "execution_count": 102,
     "metadata": {},
     "output_type": "execute_result"
    },
    {
     "data": {
      "image/png": "[encoded data removed]",
      "text/plain": [
       "<Figure size 640x480 with 1 Axes>"
      ]
     },
     "metadata": {},
     "output_type": "display_data"
    }
   ],
   "source": [
    "sns.histplot(df_groupby['gdp_per_capita'],kde=True)"
   ]
  },
  {
   "cell_type": "markdown",
   "metadata": {},
   "source": [
    "b. Plot a scatter plot of 'total_cases' & 'gdp_per_capita'"
   ]
  },
  {
   "cell_type": "code",
   "execution_count": 103,
   "metadata": {},
   "outputs": [
    {
     "data": {
      "text/plain": [
       "<Axes: xlabel='gdp_per_capita', ylabel='total_cases'>"
      ]
     },
     "execution_count": 103,
     "metadata": {},
     "output_type": "execute_result"
    },
    {
     "data": {
      "image/png": "[encoded data removed]",
      "text/plain": [
       "<Figure size 640x480 with 1 Axes>"
      ]
     },
     "metadata": {},
     "output_type": "display_data"
    }
   ],
   "source": [
    "sns.scatterplot(x=df_groupby['gdp_per_capita'],y=df_groupby['total_cases'])"
   ]
  },
  {
   "cell_type": "code",
   "execution_count": 104,
   "metadata": {},
   "outputs": [
    {
     "data": {
      "text/plain": [
       "<seaborn.axisgrid.PairGrid at 0x1e981d948d0>"
      ]
     },
     "execution_count": 104,
     "metadata": {},
     "output_type": "execute_result"
    },
    {
     "data": {
      "image/png": "[encoded data removed]",
      "text/plain": [
       "<Figure size 1250x1250 with 30 Axes>"
      ]
     },
     "metadata": {},
     "output_type": "display_data"
    }
   ],
   "source": [
    "sns.pairplot(df_groupby)"
   ]
  },
  {
   "cell_type": "markdown",
   "metadata": {},
   "source": [
    "d. Plot a bar plot of 'continent' column with 'total_cases' . Tip : using kind='bar' in seaborn catplot"
   ]
  },
  {
   "cell_type": "code",
   "execution_count": 105,
   "metadata": {},
   "outputs": [
    {
     "data": {
      "text/plain": [
       "<seaborn.axisgrid.FacetGrid at 0x1e98626a250>"
      ]
     },
     "execution_count": 105,
     "metadata": {},
     "output_type": "execute_result"
    },
    {
     "data": {
      "image/png": "[encoded data removed]",
      "text/plain": [
       "<Figure size 511.111x500 with 1 Axes>"
      ]
     },
     "metadata": {},
     "output_type": "display_data"
    }
   ],
   "source": [
    "sns.catplot(x=df_groupby['continent'],y=df_groupby['total_cases'],kind='bar')"
   ]
  },
  {
   "cell_type": "markdown",
   "metadata": {},
   "source": [
    "10.Save the df_groupby dataframe in your local drive using pandas.to_csv function ."
   ]
  },
  {
   "cell_type": "code",
   "execution_count": 106,
   "metadata": {},
   "outputs": [],
   "source": [
    "df_groupby.to_csv(\"covid_analysis.csv\")"
   ]
  }
 ],
 "metadata": {
  "kernelspec": {
   "display_name": ".venv",
   "language": "python",
   "name": "python3"
  },
  "language_info": {
   "codemirror_mode": {
    "name": "ipython",
    "version": 3
   },
   "file_extension": ".py",
   "mimetype": "text/x-python",
   "name": "python",
   "nbconvert_exporter": "python",
   "pygments_lexer": "ipython3",
   "version": "3.11.4"
  }
 },
 "nbformat": 4,
 "nbformat_minor": 2
}
