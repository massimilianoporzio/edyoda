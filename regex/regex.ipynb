{
 "cells": [
  {
   "cell_type": "code",
   "execution_count": 1,
   "metadata": {},
   "outputs": [],
   "source": [
    "import re"
   ]
  },
  {
   "cell_type": "code",
   "execution_count": 2,
   "metadata": {},
   "outputs": [
    {
     "name": "stdout",
     "output_type": "stream",
     "text": [
      "['1', '2', '3', '3']\n"
     ]
    }
   ],
   "source": [
    "string = \"001 Python is an object oriented programming language @ 203453\"\n",
    "search = '[123]'\n",
    "find = re.findall(search,string)\n",
    "print(find)"
   ]
  },
  {
   "cell_type": "code",
   "execution_count": 3,
   "metadata": {},
   "outputs": [
    {
     "name": "stdout",
     "output_type": "stream",
     "text": [
      "['0', '0', '1', '2', '0', '3', '4', '3']\n"
     ]
    }
   ],
   "source": [
    "# 5. [6-9] - returns a match whenever any digit b/w the given range occurs.\n",
    "string = \"001 Python is an object oriented programming language @ 203453\"\n",
    "search = '[0-4]'\n",
    "find = re.findall(search,string)\n",
    "print(find)"
   ]
  },
  {
   "cell_type": "code",
   "execution_count": 4,
   "metadata": {},
   "outputs": [
    {
     "name": "stdout",
     "output_type": "stream",
     "text": [
      "['20', '34', '53']\n"
     ]
    }
   ],
   "source": [
    "# 6. [1234][0-9] - returns a match whenever any such two digit number is found\n",
    "string = \"001 Python is an object oriented programming language @ 203453\"\n",
    "search = '[1235][0-9]'\n",
    "find = re.findall(search,string)\n",
    "print(find)"
   ]
  }
 ],
 "metadata": {
  "kernelspec": {
   "display_name": ".venv",
   "language": "python",
   "name": "python3"
  },
  "language_info": {
   "codemirror_mode": {
    "name": "ipython",
    "version": 3
   },
   "file_extension": ".py",
   "mimetype": "text/x-python",
   "name": "python",
   "nbconvert_exporter": "python",
   "pygments_lexer": "ipython3",
   "version": "3.11.4"
  },
  "orig_nbformat": 4
 },
 "nbformat": 4,
 "nbformat_minor": 2
}
