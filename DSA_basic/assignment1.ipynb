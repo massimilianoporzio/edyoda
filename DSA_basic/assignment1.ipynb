{
 "cells": [
  {
   "cell_type": "markdown",
   "metadata": {},
   "source": [
    "Q1. Write a program to find all pairs of an integer array whose sum is equal to a given number"
   ]
  },
  {
   "cell_type": "code",
   "execution_count": 3,
   "metadata": {},
   "outputs": [],
   "source": [
    "def find_pairs(array, sum):\n",
    "    n = len(array)\n",
    "    for i in range(n):\n",
    "        for j in range(i + 1, n):\n",
    "            if array[i] + array[j] == sum:\n",
    "                print(f\"({array[i]}, {array[j]})\")\n",
    "    "
   ]
  },
  {
   "cell_type": "code",
   "execution_count": 4,
   "metadata": {},
   "outputs": [
    {
     "name": "stdout",
     "output_type": "stream",
     "text": [
      "(1, 2)\n",
      "(5, -2)\n"
     ]
    }
   ],
   "source": [
    "input_array = [1,2,5,-2]\n",
    "find_pairs(input_array,3)"
   ]
  },
  {
   "cell_type": "markdown",
   "metadata": {},
   "source": [
    "Q2. Write a program to reverse an array in place? In place means you cannot create a new array. You have to update the original array."
   ]
  },
  {
   "cell_type": "code",
   "execution_count": 6,
   "metadata": {},
   "outputs": [],
   "source": [
    "def reverse_array(arr):\n",
    "    n = len(arr)\n",
    "    for i in range(n // 2):\n",
    "        arr[i], arr[n - i - 1] = arr[n - i - 1], arr[i]"
   ]
  },
  {
   "cell_type": "code",
   "execution_count": 7,
   "metadata": {},
   "outputs": [
    {
     "name": "stdout",
     "output_type": "stream",
     "text": [
      "[5, 4, 3, 2, 1]\n"
     ]
    }
   ],
   "source": [
    "input_array = [1,2,3,4,5]\n",
    "reverse_array(input_array)\n",
    "print(input_array)"
   ]
  },
  {
   "cell_type": "markdown",
   "metadata": {},
   "source": [
    "Q3. Write a program to check if two strings are a rotation of each other"
   ]
  },
  {
   "cell_type": "code",
   "execution_count": 8,
   "metadata": {},
   "outputs": [],
   "source": [
    "def check_rotation(s1, s2):\n",
    "    if len(s1) != len(s2):\n",
    "        return False\n",
    "\n",
    "    stack = []\n",
    "    for char in s1:\n",
    "        stack.append(char)\n",
    "\n",
    "    for _ in range(len(s2)):\n",
    "        stack.insert(0, stack.pop())\n",
    "\n",
    "        if ''.join(stack) == s2:\n",
    "            return True\n",
    "\n",
    "    return False"
   ]
  },
  {
   "cell_type": "code",
   "execution_count": 11,
   "metadata": {},
   "outputs": [
    {
     "name": "stdout",
     "output_type": "stream",
     "text": [
      "False\n",
      "False\n",
      "True\n"
     ]
    }
   ],
   "source": [
    "first = 'abcd'\n",
    "second = 'cdab'\n",
    "third = 'abc'\n",
    "fourth = 'dacb'\n",
    "print(check_rotation(first,third))\n",
    "print(check_rotation(first,fourth))\n",
    "print(check_rotation(first,second))"
   ]
  },
  {
   "cell_type": "markdown",
   "metadata": {},
   "source": [
    "Q4. Write a program to print the first non-repeated character from a string"
   ]
  },
  {
   "cell_type": "code",
   "execution_count": 23,
   "metadata": {},
   "outputs": [],
   "source": [
    "def first_non_repeating_character(string):\n",
    "    char_counts = {}\n",
    "    for c in string:\n",
    "        if c in char_counts:\n",
    "            char_counts[c] += 1\n",
    "        else:\n",
    "            char_counts[c] = 1\n",
    "\n",
    "    for c in string:\n",
    "        if char_counts[c] == 1:\n",
    "            return c\n",
    "\n",
    "    return None"
   ]
  },
  {
   "cell_type": "code",
   "execution_count": 24,
   "metadata": {},
   "outputs": [
    {
     "name": "stdout",
     "output_type": "stream",
     "text": [
      "f\n"
     ]
    }
   ],
   "source": [
    "my_string = \"geeksforgeeks\"\n",
    "char = first_non_repeating_character(my_string)\n",
    "print(char)"
   ]
  },
  {
   "cell_type": "markdown",
   "metadata": {},
   "source": [
    "Q5. Read about the Tower of Hanoi algorithm. Write a program to implement it."
   ]
  },
  {
   "cell_type": "code",
   "execution_count": 26,
   "metadata": {},
   "outputs": [],
   "source": [
    "def move_disks(starting_stack, middle_stack, Final_stack, n):\n",
    "    if n == 0:\n",
    "        return\n",
    "    elif n == 1:\n",
    "        Final_stack.append(starting_stack.pop())\n",
    "    elif n == 2:\n",
    "        middle_stack.append(starting_stack.pop())\n",
    "        Final_stack.append(starting_stack.pop())\n",
    "        Final_stack.append(middle_stack.pop())\n",
    "    else:\n",
    "        #move to the middle stack using the final stack as \"middle\"\n",
    "        move_disks(starting_stack, Final_stack, middle_stack, n - 1)\n",
    "        Final_stack.append(starting_stack.pop())\n",
    "        #move from the middle to the final stack using starting stack as \"middle\"\n",
    "        move_disks(middle_stack, starting_stack, Final_stack, n - 1)\n"
   ]
  },
  {
   "cell_type": "code",
   "execution_count": 27,
   "metadata": {},
   "outputs": [
    {
     "name": "stdout",
     "output_type": "stream",
     "text": [
      "Final stack:  [0, 1, 2, 3]\n"
     ]
    }
   ],
   "source": [
    "Starting_stack = [0, 1, 2, 3]\n",
    "Middle_stack = []\n",
    "Final_stack = []\n",
    "n = len(Starting_stack)\n",
    "move_disks(Starting_stack, Middle_stack, Final_stack, n)\n",
    "print(\"Final stack: \", Final_stack)"
   ]
  },
  {
   "cell_type": "markdown",
   "metadata": {},
   "source": [
    "Q6. Read about infix, prefix, and postfix expressions. Write a program to convert postfix to prefix expression."
   ]
  },
  {
   "cell_type": "code",
   "execution_count": 49,
   "metadata": {},
   "outputs": [],
   "source": [
    "def isOperator(char):\n",
    "    return char in ['+', '-', '*', '/']"
   ]
  },
  {
   "cell_type": "code",
   "execution_count": 50,
   "metadata": {},
   "outputs": [],
   "source": [
    "def postToPre(post_exp):\n",
    "    stack = []\n",
    "    length = len(post_exp)\n",
    "    for i in range(length):\n",
    "        if isOperator(post_exp[i]):\n",
    "            op1 = stack.pop()\n",
    "            op2 = stack.pop()\n",
    "            temp = post_exp[i] + op2 + op1\n",
    "            stack.append(temp)\n",
    "        else:\n",
    "            stack.append(post_exp[i])\n",
    "\n",
    "    ans = \"\"\n",
    "    while stack:\n",
    "        ans += stack.pop()\n",
    "\n",
    "    return ans"
   ]
  },
  {
   "cell_type": "code",
   "execution_count": 51,
   "metadata": {},
   "outputs": [
    {
     "name": "stdout",
     "output_type": "stream",
     "text": [
      "Prefix notation: *-A/BC-/AKL\n"
     ]
    }
   ],
   "source": [
    "post_exp = \"ABC/-AK/L-*\"\n",
    "print(\"Prefix notation:\", postToPre(post_exp))"
   ]
  },
  {
   "cell_type": "markdown",
   "metadata": {},
   "source": [
    "Q7. Write a program to convert prefix expression to infix expression."
   ]
  },
  {
   "cell_type": "code",
   "execution_count": 52,
   "metadata": {},
   "outputs": [],
   "source": [
    "def prefixToInfix(prefix_exp):\n",
    "    stack = []\n",
    "    length = len(prefix_exp)\n",
    "    for i in range(length - 1, -1, -1):\n",
    "        if isOperator(prefix_exp[i]):\n",
    "            op1 = stack.pop()\n",
    "            op2 = stack.pop()\n",
    "            temp = '(' + op1 + prefix_exp[i] + op2 + ')'\n",
    "            stack.append(temp)\n",
    "        else:\n",
    "            stack.append(prefix_exp[i])\n",
    "\n",
    "    return stack.pop()"
   ]
  },
  {
   "cell_type": "code",
   "execution_count": 53,
   "metadata": {},
   "outputs": [
    {
     "name": "stdout",
     "output_type": "stream",
     "text": [
      "Infix: ((A-(B*C))/((A/K)-L))\n"
     ]
    }
   ],
   "source": [
    "prefix_exp = '/-A*BC-/AKL'\n",
    "print(\"Infix:\", prefixToInfix(prefix_exp))"
   ]
  },
  {
   "cell_type": "markdown",
   "metadata": {},
   "source": [
    "Q8. Write a program to check if all the brackets are closed in a given code snippet."
   ]
  },
  {
   "cell_type": "code",
   "execution_count": 67,
   "metadata": {},
   "outputs": [],
   "source": [
    "def check_brackets(code):\n",
    "    stack = []\n",
    "    closed = True\n",
    "    for char in code:\n",
    "        if char in [\"(\", \"{\", \"[\"]:\n",
    "            stack.append(char)\n",
    "        elif char in [\")\", \"}\", \"]\"]:\n",
    "            if not stack:\n",
    "                closed = False\n",
    "            if char == \")\" and stack[-1] != \"(\":\n",
    "                closed = False\n",
    "            if char == \"}\" and stack[-1] != \"{\":\n",
    "                closed = False\n",
    "            if char == \"]\" and stack[-1] != \"[\":\n",
    "                closed = False\n",
    "            stack.pop()\n",
    "    return f\"All brackets are {'not ' if (closed) else ''}closed.\""
   ]
  },
  {
   "cell_type": "code",
   "execution_count": 68,
   "metadata": {},
   "outputs": [
    {
     "name": "stdout",
     "output_type": "stream",
     "text": [
      "All brackets are not closed.\n",
      "All brackets are closed.\n"
     ]
    }
   ],
   "source": [
    "snippet1 = \"{[{}()()]}\"\n",
    "snippet2 = \"{[{}()(]}\"\n",
    "print(check_brackets(snippet1))\n",
    "print(check_brackets(snippet2))\n"
   ]
  },
  {
   "cell_type": "markdown",
   "metadata": {},
   "source": [
    "Q9. Write a program to reverse a stack."
   ]
  },
  {
   "cell_type": "code",
   "execution_count": 73,
   "metadata": {},
   "outputs": [],
   "source": [
    "class Stack:\n",
    "    def __init__(self):\n",
    "        self.elements = []\n",
    "\n",
    "    def push(self, value):\n",
    "        self.elements.append(value)\n",
    "\n",
    "    def pop(self):\n",
    "        return self.elements.pop()\n",
    "\n",
    "    def is_empty(self):\n",
    "        return len(self.elements) == 0\n",
    "\n",
    "    def show(self):\n",
    "        for value in reversed(self.elements):\n",
    "            print(value)\n",
    "    \n"
   ]
  },
  {
   "cell_type": "code",
   "execution_count": 70,
   "metadata": {},
   "outputs": [],
   "source": [
    "def reverse_stack(stack):\n",
    "    temp_stack = Stack()\n",
    "    while not stack.is_empty():\n",
    "        temp_stack.push(stack.pop())\n",
    "    return temp_stack"
   ]
  },
  {
   "cell_type": "code",
   "execution_count": 71,
   "metadata": {},
   "outputs": [
    {
     "name": "stdout",
     "output_type": "stream",
     "text": [
      "Original Stack:\n",
      "5\n",
      "4\n",
      "3\n",
      "2\n",
      "1\n",
      "\n",
      "Stack after Reversing:\n",
      "1\n",
      "2\n",
      "3\n",
      "4\n",
      "5\n"
     ]
    }
   ],
   "source": [
    "stk = Stack()\n",
    "stk.push(1)\n",
    "stk.push(2)\n",
    "stk.push(3)\n",
    "stk.push(4)\n",
    "stk.push(5)\n",
    "\n",
    "print(\"Original Stack:\")\n",
    "stk.show()\n",
    "\n",
    "reversed_stack = reverse_stack(stk)\n",
    "\n",
    "print(\"\\nStack after Reversing:\")\n",
    "reversed_stack.show()"
   ]
  },
  {
   "cell_type": "markdown",
   "metadata": {},
   "source": [
    "Q10. Write a program to find the smallest number using a stack."
   ]
  },
  {
   "cell_type": "code",
   "execution_count": 74,
   "metadata": {},
   "outputs": [],
   "source": [
    "class Stack:\n",
    "    def __init__(self):\n",
    "        self.elements = []\n",
    "\n",
    "    def push(self, value):\n",
    "        self.elements.append(value)\n",
    "\n",
    "    def pop(self):\n",
    "        return self.elements.pop()\n",
    "\n",
    "    def is_empty(self):\n",
    "        return len(self.elements) == 0\n",
    "\n",
    "    def show(self):\n",
    "        for value in reversed(self.elements):\n",
    "            print(value)\n",
    "            \n",
    "    def get_smallest(self):\n",
    "        return min(self.elements)"
   ]
  },
  {
   "cell_type": "code",
   "execution_count": 75,
   "metadata": {},
   "outputs": [
    {
     "name": "stdout",
     "output_type": "stream",
     "text": [
      "The smallest number is: -5\n"
     ]
    }
   ],
   "source": [
    "my_stack = Stack()\n",
    "my_stack.push(1)\n",
    "my_stack.push(30)\n",
    "my_stack.push(17)\n",
    "my_stack.push(2)\n",
    "my_stack.push(-5)\n",
    "\n",
    "print(f\"The smallest number is: {my_stack.get_smallest()}\")"
   ]
  }
 ],
 "metadata": {
  "kernelspec": {
   "display_name": ".venv",
   "language": "python",
   "name": "python3"
  },
  "language_info": {
   "codemirror_mode": {
    "name": "ipython",
    "version": 3
   },
   "file_extension": ".py",
   "mimetype": "text/x-python",
   "name": "python",
   "nbconvert_exporter": "python",
   "pygments_lexer": "ipython3",
   "version": "3.11.4"
  },
  "orig_nbformat": 4
 },
 "nbformat": 4,
 "nbformat_minor": 2
}
