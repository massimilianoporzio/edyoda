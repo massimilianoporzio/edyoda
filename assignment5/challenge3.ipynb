{
 "cells": [
  {
   "cell_type": "code",
   "execution_count": 8,
   "metadata": {},
   "outputs": [],
   "source": [
    "class Student:\n",
    "    def __init__(self) -> None:\n",
    "        self.__name = \"None\"\n",
    "        self.__rollNubmer = -1\n",
    "\n",
    "    def setName(self,name):\n",
    "        self.__name = name\n",
    "    def getName(self):\n",
    "        return self.__name\n",
    "    def setRollNumber(self,rollNum):\n",
    "        self.__rollNubmer = rollNum\n",
    "    def getRollNumber(self):\n",
    "        return self.__rollNubmer"
   ]
  },
  {
   "cell_type": "code",
   "execution_count": 16,
   "metadata": {},
   "outputs": [
    {
     "name": "stdout",
     "output_type": "stream",
     "text": [
      "None\n",
      "Massimiliano\n",
      "-1\n",
      "1234\n"
     ]
    }
   ],
   "source": [
    "obj = Student()\n",
    "#obj.__name #AttributeError\n",
    "print(obj.getName())\n",
    "obj.setName(\"Massimiliano\")\n",
    "print(obj.getName())\n",
    "#obj.__rollNubmer #AttributeError\n",
    "print(obj.getRollNumber())\n",
    "obj.setRollNumber(1234)\n",
    "print(obj.getRollNumber())\n"
   ]
  }
 ],
 "metadata": {
  "kernelspec": {
   "display_name": ".venv",
   "language": "python",
   "name": "python3"
  },
  "language_info": {
   "codemirror_mode": {
    "name": "ipython",
    "version": 3
   },
   "file_extension": ".py",
   "mimetype": "text/x-python",
   "name": "python",
   "nbconvert_exporter": "python",
   "pygments_lexer": "ipython3",
   "version": "3.11.4"
  },
  "orig_nbformat": 4
 },
 "nbformat": 4,
 "nbformat_minor": 2
}
