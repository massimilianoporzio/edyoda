{
 "cells": [
  {
   "cell_type": "markdown",
   "metadata": {},
   "source": [
    "Task 1"
   ]
  },
  {
   "cell_type": "code",
   "execution_count": null,
   "metadata": {},
   "outputs": [],
   "source": [
    "class Account:\n",
    "    def __init__(self,title=None,balance=0) -> None:\n",
    "        self.title = title\n",
    "        self.Balance = balance\n",
    "    def getBalance(self):\n",
    "        return self.Balance"
   ]
  },
  {
   "cell_type": "markdown",
   "metadata": {},
   "source": [
    "Task 2"
   ]
  },
  {
   "cell_type": "code",
   "execution_count": 1,
   "metadata": {},
   "outputs": [],
   "source": [
    "class Account:\n",
    "    def __init__(self,title=None,balance=0) -> None:\n",
    "        self.title = title\n",
    "        self.Balance = balance\n",
    "    def getBalance(self):\n",
    "        return self.Balance\n",
    "    def deposit(self,amount):\n",
    "        self.Balance += amount"
   ]
  },
  {
   "cell_type": "code",
   "execution_count": 2,
   "metadata": {},
   "outputs": [
    {
     "name": "stdout",
     "output_type": "stream",
     "text": [
      "2500\n"
     ]
    }
   ],
   "source": [
    "balance = 2000\n",
    "obj = Account('MyAccount',balance)\n",
    "obj.deposit(500)\n",
    "print(obj.getBalance())"
   ]
  },
  {
   "cell_type": "markdown",
   "metadata": {},
   "source": [
    "Task 3"
   ]
  },
  {
   "cell_type": "code",
   "execution_count": 3,
   "metadata": {},
   "outputs": [],
   "source": [
    "class Account:\n",
    "    def __init__(self,title=None,balance=0) -> None:\n",
    "        self.title = title\n",
    "        self.Balance = balance\n",
    "    def getBalance(self):\n",
    "        return self.Balance\n",
    "    def deposit(self,amount):\n",
    "        self.Balance += amount\n",
    "    def withdrawal(self,amount):\n",
    "        self.Balance -= amount"
   ]
  },
  {
   "cell_type": "code",
   "execution_count": 4,
   "metadata": {},
   "outputs": [
    {
     "name": "stdout",
     "output_type": "stream",
     "text": [
      "1500\n"
     ]
    }
   ],
   "source": [
    "balance = 2000\n",
    "obj = Account('MyAccount',balance)\n",
    "obj.withdrawal(500)\n",
    "print(obj.getBalance())"
   ]
  },
  {
   "cell_type": "markdown",
   "metadata": {},
   "source": [
    "Task 4"
   ]
  },
  {
   "cell_type": "code",
   "execution_count": 8,
   "metadata": {},
   "outputs": [],
   "source": [
    "class Account:\n",
    "    def __init__(self,title=None,balance=0) -> None:\n",
    "        self.title = title\n",
    "        self.Balance = balance\n",
    "    def getBalance(self):\n",
    "        return self.Balance\n",
    "    def deposit(self,amount):\n",
    "        self.Balance += amount\n",
    "    def withdrawal(self,amount):\n",
    "        self.Balance -= amount"
   ]
  },
  {
   "cell_type": "code",
   "execution_count": 9,
   "metadata": {},
   "outputs": [],
   "source": [
    "class SavingsAccounts(Account):\n",
    "    def __init__(self,title,balance,rate) -> None:\n",
    "        super().__init__(title,balance)\n",
    "        self.interestRate = rate\n",
    "    def interestAmount(self):\n",
    "        return (self.interestRate * self.Balance)/100"
   ]
  },
  {
   "cell_type": "code",
   "execution_count": 11,
   "metadata": {},
   "outputs": [
    {
     "name": "stdout",
     "output_type": "stream",
     "text": [
      "100.0\n"
     ]
    }
   ],
   "source": [
    "balance = 2000\n",
    "interestRate = 5\n",
    "obj = SavingsAccounts('MyAccount',balance,interestRate)\n",
    "print(obj.interestAmount())"
   ]
  }
 ],
 "metadata": {
  "kernelspec": {
   "display_name": ".venv",
   "language": "python",
   "name": "python3"
  },
  "language_info": {
   "codemirror_mode": {
    "name": "ipython",
    "version": 3
   },
   "file_extension": ".py",
   "mimetype": "text/x-python",
   "name": "python",
   "nbconvert_exporter": "python",
   "pygments_lexer": "ipython3",
   "version": "3.11.4"
  },
  "orig_nbformat": 4
 },
 "nbformat": 4,
 "nbformat_minor": 2
}
