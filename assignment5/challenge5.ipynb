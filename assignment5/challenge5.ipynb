{
 "cells": [
  {
   "cell_type": "markdown",
   "metadata": {},
   "source": [
    "Task 1"
   ]
  },
  {
   "cell_type": "code",
   "execution_count": 13,
   "metadata": {},
   "outputs": [],
   "source": [
    "class Account:\n",
    "    def __init__(self,title=None,balance=0) -> None:\n",
    "        self.title = title\n",
    "        self.Balance = balance\n",
    "    def getBalance(self):\n",
    "        return self.Balance"
   ]
  },
  {
   "cell_type": "code",
   "execution_count": 14,
   "metadata": {},
   "outputs": [
    {
     "name": "stdout",
     "output_type": "stream",
     "text": [
      "0\n"
     ]
    }
   ],
   "source": [
    "obj = Account()\n",
    "print(obj.getBalance())"
   ]
  },
  {
   "cell_type": "markdown",
   "metadata": {},
   "source": [
    "Task 2"
   ]
  },
  {
   "cell_type": "code",
   "execution_count": 15,
   "metadata": {},
   "outputs": [],
   "source": [
    "class Account:\n",
    "    def __init__(self,title=None,balance=0) -> None:\n",
    "        self.title = title\n",
    "        self.Balance = balance\n",
    "    def getBalance(self):\n",
    "        return self.Balance\n",
    "    def deposit(self,amount):\n",
    "        self.Balance += amount"
   ]
  },
  {
   "cell_type": "code",
   "execution_count": 16,
   "metadata": {},
   "outputs": [
    {
     "name": "stdout",
     "output_type": "stream",
     "text": [
      "2500\n"
     ]
    }
   ],
   "source": [
    "balance = 2000\n",
    "obj = Account('MyAccount',balance)\n",
    "obj.deposit(500)\n",
    "print(obj.getBalance())"
   ]
  },
  {
   "cell_type": "markdown",
   "metadata": {},
   "source": [
    "Task 3"
   ]
  },
  {
   "cell_type": "code",
   "execution_count": 17,
   "metadata": {},
   "outputs": [],
   "source": [
    "class Account:\n",
    "    def __init__(self,title=None,balance=0) -> None:\n",
    "        self.title = title\n",
    "        self.Balance = balance\n",
    "    def getBalance(self):\n",
    "        return self.Balance\n",
    "    def deposit(self,amount):\n",
    "        self.Balance += amount\n",
    "    def withdrawal(self,amount):\n",
    "        self.Balance -= amount"
   ]
  },
  {
   "cell_type": "code",
   "execution_count": 18,
   "metadata": {},
   "outputs": [
    {
     "name": "stdout",
     "output_type": "stream",
     "text": [
      "1500\n"
     ]
    }
   ],
   "source": [
    "balance = 2000\n",
    "obj = Account('MyAccount',balance)\n",
    "obj.withdrawal(500)\n",
    "print(obj.getBalance())"
   ]
  },
  {
   "cell_type": "markdown",
   "metadata": {},
   "source": [
    "Task 4"
   ]
  },
  {
   "cell_type": "code",
   "execution_count": 19,
   "metadata": {},
   "outputs": [],
   "source": [
    "class Account:\n",
    "    def __init__(self,title=None,balance=0) -> None:\n",
    "        self.title = title\n",
    "        self.Balance = balance\n",
    "    def getBalance(self):\n",
    "        return self.Balance\n",
    "    def deposit(self,amount):\n",
    "        self.Balance += amount\n",
    "    def withdrawal(self,amount):\n",
    "        self.Balance -= amount"
   ]
  },
  {
   "cell_type": "code",
   "execution_count": 23,
   "metadata": {},
   "outputs": [],
   "source": [
    "class SavingsAccount(Account):\n",
    "    def __init__(self,title,balance,rate=0) -> None:\n",
    "        super().__init__(title,balance)\n",
    "        self.interestRate = rate\n",
    "    def interestAmount(self):\n",
    "        return (self.interestRate * self.Balance)/100"
   ]
  },
  {
   "cell_type": "code",
   "execution_count": 24,
   "metadata": {},
   "outputs": [
    {
     "name": "stdout",
     "output_type": "stream",
     "text": [
      "100.0\n"
     ]
    }
   ],
   "source": [
    "balance = 2000\n",
    "interestRate = 5\n",
    "obj = SavingsAccount('MyAccount',balance,interestRate)\n",
    "print(obj.interestAmount())"
   ]
  },
  {
   "cell_type": "code",
   "execution_count": 25,
   "metadata": {},
   "outputs": [],
   "source": [
    "#code to test - do not edit this\n",
    "\n",
    "demo1 = SavingsAccount(\"Ashish\", 2000, 5)   # initializing a SavingsAccount object\n"
   ]
  }
 ],
 "metadata": {
  "kernelspec": {
   "display_name": ".venv",
   "language": "python",
   "name": "python3"
  },
  "language_info": {
   "codemirror_mode": {
    "name": "ipython",
    "version": 3
   },
   "file_extension": ".py",
   "mimetype": "text/x-python",
   "name": "python",
   "nbconvert_exporter": "python",
   "pygments_lexer": "ipython3",
   "version": "3.11.4"
  },
  "orig_nbformat": 4
 },
 "nbformat": 4,
 "nbformat_minor": 2
}
