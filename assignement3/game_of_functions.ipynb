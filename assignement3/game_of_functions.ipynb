{
 "cells": [
  {
   "cell_type": "code",
   "execution_count": 42,
   "metadata": {},
   "outputs": [],
   "source": [
    "def getInputList():\n",
    "    input_string = input('Enter elements of a list of integers separated by space')\n",
    "    lista = input_string.split(' ')\n",
    "    numbers = []\n",
    "    for elem in lista:\n",
    "        try:\n",
    "            num = int(elem)\n",
    "            \n",
    "            numbers.append(num)\n",
    "               \n",
    "        except:\n",
    "            \n",
    "            print('Only integers are allowed')\n",
    "            return None\n",
    "    return numbers\n",
    "\n",
    "def summAll(args):\n",
    "    summation = 0\n",
    "    for num in args:\n",
    "        summation +=num\n",
    "    return summation\n",
    "    \n",
    "    "
   ]
  },
  {
   "cell_type": "code",
   "execution_count": 45,
   "metadata": {},
   "outputs": [
    {
     "name": "stdout",
     "output_type": "stream",
     "text": [
      "The sum of the input numbers is:  20\n"
     ]
    }
   ],
   "source": [
    "input_numbers=getInputList()\n",
    "print('The sum of the input numbers is: ',summAll(input_numbers))"
   ]
  }
 ],
 "metadata": {
  "kernelspec": {
   "display_name": ".venv",
   "language": "python",
   "name": "python3"
  },
  "language_info": {
   "codemirror_mode": {
    "name": "ipython",
    "version": 3
   },
   "file_extension": ".py",
   "mimetype": "text/x-python",
   "name": "python",
   "nbconvert_exporter": "python",
   "pygments_lexer": "ipython3",
   "version": "3.11.4"
  },
  "orig_nbformat": 4
 },
 "nbformat": 4,
 "nbformat_minor": 2
}
