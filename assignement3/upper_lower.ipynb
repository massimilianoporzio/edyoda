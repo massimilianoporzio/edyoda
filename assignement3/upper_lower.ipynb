{
 "cells": [
  {
   "cell_type": "code",
   "execution_count": 2,
   "metadata": {},
   "outputs": [],
   "source": [
    "def countLetters(input_string):\n",
    "    upperLetters=[]\n",
    "    lowerLetters=[]\n",
    "    for letter in input_string:\n",
    "        if letter.isupper():\n",
    "            upperLetters.append(letter)\n",
    "        elif letter.islower():\n",
    "            lowerLetters.append(lowerLetters)\n",
    "    print('No. of Upper case characters: ',len(upperLetters))\n",
    "    print('No. of Lower case characters: ',len(lowerLetters))"
   ]
  },
  {
   "cell_type": "code",
   "execution_count": 3,
   "metadata": {},
   "outputs": [
    {
     "name": "stdout",
     "output_type": "stream",
     "text": [
      "No. of Upper case characters:  3\n",
      "No. of Lower case characters:  12\n"
     ]
    }
   ],
   "source": [
    "input_string = input(\"please insert a string\")\n",
    "countLetters(input_string)"
   ]
  }
 ],
 "metadata": {
  "kernelspec": {
   "display_name": ".venv",
   "language": "python",
   "name": "python3"
  },
  "language_info": {
   "codemirror_mode": {
    "name": "ipython",
    "version": 3
   },
   "file_extension": ".py",
   "mimetype": "text/x-python",
   "name": "python",
   "nbconvert_exporter": "python",
   "pygments_lexer": "ipython3",
   "version": "3.11.4"
  },
  "orig_nbformat": 4
 },
 "nbformat": 4,
 "nbformat_minor": 2
}
