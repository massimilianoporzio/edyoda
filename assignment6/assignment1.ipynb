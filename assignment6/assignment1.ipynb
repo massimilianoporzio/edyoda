{
 "cells": [
  {
   "cell_type": "code",
   "execution_count": 5,
   "metadata": {},
   "outputs": [],
   "source": [
    "import json\n",
    "import datetime"
   ]
  },
  {
   "cell_type": "code",
   "execution_count": 87,
   "metadata": {},
   "outputs": [],
   "source": [
    "class Employee:\n",
    "    def __init__(self,name,dob,height,city,state):\n",
    "        self.name=name\n",
    "        self.dob=dob\n",
    "        self.height=height\n",
    "        self.city=city\n",
    "        self.state=state\n",
    "    def __repr__(self):\n",
    "        return f\"Employee: Name: {self.name}\\tDob: {datetime.datetime.strftime(self.dob,'%d/%m/%Y')}\\tHeigth: {self.height} cm\\tCity: {self.city}\\tState: {self.state}\"\n",
    "    \n",
    "        "
   ]
  },
  {
   "cell_type": "code",
   "execution_count": 88,
   "metadata": {},
   "outputs": [
    {
     "name": "stdout",
     "output_type": "stream",
     "text": [
      "Employee: Name: Christiane\tDob: 25/10/2020\tHeigth: 175 cm\tCity: Ţāmiyah\tState: Italy\n",
      "\n",
      "Employee: Name: Kaylee\tDob: 26/12/2005\tHeigth: 172 cm\tCity: Himensulan\tState: Germany\n",
      "\n",
      "Employee: Name: Lorianne\tDob: 22/02/1981\tHeigth: 171 cm\tCity: Skhira\tState: France\n",
      "\n",
      "Employee: Name: Walther\tDob: 16/03/1993\tHeigth: 185 cm\tCity: Ejmiatsin\tState: England\n",
      "\n",
      "Employee: Name: Edi\tDob: 21/04/1985\tHeigth: 182 cm\tCity: Zavrč\tState: Croatia\n",
      "\n",
      "Employee: Name: Max\tDob: 25/02/1978\tHeigth: 186 cm\tCity: Cuneo\tState: Italy\n",
      "\n"
     ]
    }
   ],
   "source": [
    "f = open(\"employees.json\",encoding=\"utf-8\")\n",
    "data = json.load(f)\n",
    "my_list = []\n",
    "for emp in data['employees']:\n",
    "    my_list.append(Employee(\n",
    "        name=emp[\"Name\"],\n",
    "        dob=datetime.datetime.strptime(emp[\"DOB\"],\"%d/%m/%Y\").date(),\n",
    "        height=emp[\"Height\"],\n",
    "        city=emp['City'],\n",
    "        state=emp[\"State\"]\n",
    "    ))\n",
    "for emp in my_list:\n",
    "    print(emp)\n"
   ]
  }
 ],
 "metadata": {
  "kernelspec": {
   "display_name": ".venv",
   "language": "python",
   "name": "python3"
  },
  "language_info": {
   "codemirror_mode": {
    "name": "ipython",
    "version": 3
   },
   "file_extension": ".py",
   "mimetype": "text/x-python",
   "name": "python",
   "nbconvert_exporter": "python",
   "pygments_lexer": "ipython3",
   "version": "3.11.4"
  },
  "orig_nbformat": 4
 },
 "nbformat": 4,
 "nbformat_minor": 2
}
